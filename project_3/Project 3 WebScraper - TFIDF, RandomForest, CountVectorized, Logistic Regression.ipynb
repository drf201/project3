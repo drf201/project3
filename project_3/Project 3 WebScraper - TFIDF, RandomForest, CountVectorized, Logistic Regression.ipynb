{
 "cells": [
  {
   "cell_type": "markdown",
   "metadata": {},
   "source": [
    "1. Using Reddit's API, you'll collect posts from two subreddits of your choosing.\n",
    "\n",
    "2. You'll then use NLP to train a classifier on which subreddit a given post came from. This is a binary classification problem."
   ]
  },
  {
   "cell_type": "markdown",
   "metadata": {},
   "source": [
    "### Problem Statement\n",
    "\n",
    "\n",
    "Is it clear what the goal of the project is? To create a model that can predict whether a post is from the nosleep subreddit or from the unresolved mysteries.\n",
    "\n",
    "What type of model will be developed? -bayes classifier, and a logistic regression\n",
    "\n",
    "How will success be evaluated? - How well my model can predict if new posts belong to r/unresolvedmysteries subreddit, or if they belond in r/nosleep.\n",
    "\n",
    "\n",
    "\n",
    "Is it clear who cares about this or why this is important to investigate? I would like it to be used to tell if a story is comepletely fiction, or if a story is based on facts.\n",
    "\n",
    "Does the student consider the audience and the primary and secondary stakeholders? "
   ]
  },
  {
   "cell_type": "code",
   "execution_count": 135,
   "metadata": {},
   "outputs": [],
   "source": [
    "import requests, json, time, re\n",
    "import pandas as pd\n",
    "import numpy as np\n",
    "from sklearn.feature_extraction.text import CountVectorizer, TfidfVectorizer\n",
    "from sklearn.ensemble import RandomForestClassifier\n",
    "from sklearn.model_selection import train_test_split, GridSearchCV\n",
    "from sklearn.linear_model import LogisticRegression\n",
    "import matplotlib.pyplot as plt\n",
    "import seaborn as sns \n",
    "import wordcloud\n",
    "import warnings\n",
    "plt.style.use('fivethirtyeight')\n",
    "warnings.filterwarnings('ignore')\n",
    "#imports"
   ]
  },
  {
   "cell_type": "code",
   "execution_count": 5,
   "metadata": {},
   "outputs": [],
   "source": [
    "def sub_query(subreddit, pages=40):\n",
    "\n",
    "#set initial conditions\n",
    "    posts = []\n",
    "    url = f'https://www.reddit.com/r/{subreddit}/top.json?t=all'\n",
    "    after = None\n",
    "\n",
    "#build the loop and print URL\n",
    "    for _ in range(pages):\n",
    "        if after == None:\n",
    "            current_url = url\n",
    "        else:\n",
    "            current_url = url + '&after=' + after\n",
    "\n",
    "        print(current_url)\n",
    "\n",
    "#make the requests and handle status code. Add time.sleep now (2.b)\n",
    "        res = requests.get(current_url, headers={'User-agent': 'Foo Bar 1.0'})\n",
    "\n",
    "        if res.status_code != 200:\n",
    "            print('Status error', res.status_code)\n",
    "            break\n",
    "\n",
    "# Actually deal with the data   \n",
    "        current_dict = res.json()\n",
    "        current_posts = [p['data'] for p in current_dict['data']['children']]\n",
    "        posts.extend(current_posts)\n",
    "\n",
    "        after = current_dict['data']['after']\n",
    "\n",
    "#Step 2b:\n",
    "        time.sleep(.2)\n",
    "    return posts\n"
   ]
  },
  {
   "cell_type": "code",
   "execution_count": 6,
   "metadata": {},
   "outputs": [
    {
     "name": "stdout",
     "output_type": "stream",
     "text": [
      "https://www.reddit.com/r/nosleep/top.json?t=all\n",
      "https://www.reddit.com/r/nosleep/top.json?t=all&after=t3_8oueb7\n",
      "https://www.reddit.com/r/nosleep/top.json?t=all&after=t3_7uyiss\n",
      "https://www.reddit.com/r/nosleep/top.json?t=all&after=t3_cd6ktm\n",
      "https://www.reddit.com/r/nosleep/top.json?t=all&after=t3_b5tyjo\n",
      "https://www.reddit.com/r/nosleep/top.json?t=all&after=t3_5iirna\n",
      "https://www.reddit.com/r/nosleep/top.json?t=all&after=t3_5uwi42\n",
      "https://www.reddit.com/r/nosleep/top.json?t=all&after=t3_d453sp\n",
      "https://www.reddit.com/r/nosleep/top.json?t=all&after=t3_27el9i\n",
      "https://www.reddit.com/r/nosleep/top.json?t=all&after=t3_85gn1r\n",
      "https://www.reddit.com/r/nosleep/top.json?t=all&after=t3_9azn5f\n",
      "https://www.reddit.com/r/nosleep/top.json?t=all&after=t3_b8y3xj\n",
      "https://www.reddit.com/r/nosleep/top.json?t=all&after=t3_7x1p9x\n",
      "https://www.reddit.com/r/nosleep/top.json?t=all&after=t3_8dwy2t\n",
      "https://www.reddit.com/r/nosleep/top.json?t=all&after=t3_9w0asc\n",
      "https://www.reddit.com/r/nosleep/top.json?t=all&after=t3_b3bhqe\n",
      "https://www.reddit.com/r/nosleep/top.json?t=all&after=t3_7gxasu\n",
      "https://www.reddit.com/r/nosleep/top.json?t=all&after=t3_4ukmn1\n",
      "https://www.reddit.com/r/nosleep/top.json?t=all&after=t3_6yfvzq\n",
      "https://www.reddit.com/r/nosleep/top.json?t=all&after=t3_64fd6y\n",
      "https://www.reddit.com/r/nosleep/top.json?t=all&after=t3_5zubxo\n",
      "https://www.reddit.com/r/nosleep/top.json?t=all&after=t3_913zkf\n",
      "https://www.reddit.com/r/nosleep/top.json?t=all&after=t3_86dc87\n",
      "https://www.reddit.com/r/nosleep/top.json?t=all&after=t3_czmoxq\n",
      "https://www.reddit.com/r/nosleep/top.json?t=all&after=t3_dbcgir\n",
      "https://www.reddit.com/r/nosleep/top.json?t=all&after=t3_7th2xo\n",
      "https://www.reddit.com/r/nosleep/top.json?t=all&after=t3_6r48xx\n",
      "https://www.reddit.com/r/nosleep/top.json?t=all&after=t3_blpau1\n",
      "https://www.reddit.com/r/nosleep/top.json?t=all&after=t3_daunha\n",
      "https://www.reddit.com/r/nosleep/top.json?t=all&after=t3_9v49kc\n",
      "https://www.reddit.com/r/nosleep/top.json?t=all&after=t3_535w7i\n",
      "https://www.reddit.com/r/nosleep/top.json?t=all&after=t3_410qwh\n",
      "https://www.reddit.com/r/nosleep/top.json?t=all&after=t3_9m6f92\n",
      "https://www.reddit.com/r/nosleep/top.json?t=all&after=t3_c2l80b\n",
      "https://www.reddit.com/r/nosleep/top.json?t=all&after=t3_d1l78f\n",
      "https://www.reddit.com/r/nosleep/top.json?t=all&after=t3_8oo0q6\n",
      "https://www.reddit.com/r/nosleep/top.json?t=all&after=t3_6hffbc\n",
      "https://www.reddit.com/r/nosleep/top.json?t=all&after=t3_60jorl\n",
      "https://www.reddit.com/r/nosleep/top.json?t=all&after=t3_6fbb6x\n",
      "https://www.reddit.com/r/nosleep/top.json?t=all&after=t3_cp2suk\n"
     ]
    }
   ],
   "source": [
    "nosleep_posts = sub_query('nosleep')"
   ]
  },
  {
   "cell_type": "code",
   "execution_count": 7,
   "metadata": {
    "scrolled": true
   },
   "outputs": [
    {
     "name": "stdout",
     "output_type": "stream",
     "text": [
      "https://www.reddit.com/r/UnresolvedMysteries/top.json?t=all\n",
      "https://www.reddit.com/r/UnresolvedMysteries/top.json?t=all&after=t3_cg9h4x\n",
      "https://www.reddit.com/r/UnresolvedMysteries/top.json?t=all&after=t3_6ni625\n",
      "https://www.reddit.com/r/UnresolvedMysteries/top.json?t=all&after=t3_9rmaf9\n",
      "https://www.reddit.com/r/UnresolvedMysteries/top.json?t=all&after=t3_cb60fb\n",
      "https://www.reddit.com/r/UnresolvedMysteries/top.json?t=all&after=t3_ai3qwl\n",
      "https://www.reddit.com/r/UnresolvedMysteries/top.json?t=all&after=t3_7nm77r\n",
      "https://www.reddit.com/r/UnresolvedMysteries/top.json?t=all&after=t3_ac769y\n",
      "https://www.reddit.com/r/UnresolvedMysteries/top.json?t=all&after=t3_axppaa\n",
      "https://www.reddit.com/r/UnresolvedMysteries/top.json?t=all&after=t3_9z59f6\n",
      "https://www.reddit.com/r/UnresolvedMysteries/top.json?t=all&after=t3_at7zzb\n",
      "https://www.reddit.com/r/UnresolvedMysteries/top.json?t=all&after=t3_6o94bx\n",
      "https://www.reddit.com/r/UnresolvedMysteries/top.json?t=all&after=t3_cbhexl\n",
      "https://www.reddit.com/r/UnresolvedMysteries/top.json?t=all&after=t3_d5xft8\n",
      "https://www.reddit.com/r/UnresolvedMysteries/top.json?t=all&after=t3_cli9mf\n",
      "https://www.reddit.com/r/UnresolvedMysteries/top.json?t=all&after=t3_br245g\n",
      "https://www.reddit.com/r/UnresolvedMysteries/top.json?t=all&after=t3_bs6fx0\n",
      "https://www.reddit.com/r/UnresolvedMysteries/top.json?t=all&after=t3_c1rd35\n",
      "https://www.reddit.com/r/UnresolvedMysteries/top.json?t=all&after=t3_53iqj7\n",
      "https://www.reddit.com/r/UnresolvedMysteries/top.json?t=all&after=t3_8k88af\n",
      "https://www.reddit.com/r/UnresolvedMysteries/top.json?t=all&after=t3_7crdsq\n",
      "https://www.reddit.com/r/UnresolvedMysteries/top.json?t=all&after=t3_adhrrq\n",
      "https://www.reddit.com/r/UnresolvedMysteries/top.json?t=all&after=t3_6xu6us\n",
      "https://www.reddit.com/r/UnresolvedMysteries/top.json?t=all&after=t3_7xhhj8\n",
      "https://www.reddit.com/r/UnresolvedMysteries/top.json?t=all&after=t3_7yjlak\n",
      "https://www.reddit.com/r/UnresolvedMysteries/top.json?t=all&after=t3_cqe01u\n",
      "https://www.reddit.com/r/UnresolvedMysteries/top.json?t=all&after=t3_cvkpb5\n",
      "https://www.reddit.com/r/UnresolvedMysteries/top.json?t=all&after=t3_9kw4pw\n",
      "https://www.reddit.com/r/UnresolvedMysteries/top.json?t=all&after=t3_72exmv\n",
      "https://www.reddit.com/r/UnresolvedMysteries/top.json?t=all&after=t3_cw4siz\n",
      "https://www.reddit.com/r/UnresolvedMysteries/top.json?t=all&after=t3_ak1ga1\n",
      "https://www.reddit.com/r/UnresolvedMysteries/top.json?t=all&after=t3_80d64n\n",
      "https://www.reddit.com/r/UnresolvedMysteries/top.json?t=all&after=t3_c3bnje\n",
      "https://www.reddit.com/r/UnresolvedMysteries/top.json?t=all&after=t3_8h6f4o\n",
      "https://www.reddit.com/r/UnresolvedMysteries/top.json?t=all&after=t3_3uqdf8\n",
      "https://www.reddit.com/r/UnresolvedMysteries/top.json?t=all&after=t3_89ry96\n",
      "https://www.reddit.com/r/UnresolvedMysteries/top.json?t=all&after=t3_8yoba0\n",
      "https://www.reddit.com/r/UnresolvedMysteries/top.json?t=all&after=t3_cjwh2r\n",
      "https://www.reddit.com/r/UnresolvedMysteries/top.json?t=all&after=t3_9jig0t\n",
      "https://www.reddit.com/r/UnresolvedMysteries/top.json?t=all&after=t3_875uhm\n"
     ]
    }
   ],
   "source": [
    "unresolved_posts = sub_query('UnresolvedMysteries')"
   ]
  },
  {
   "cell_type": "code",
   "execution_count": 8,
   "metadata": {},
   "outputs": [],
   "source": [
    "def combine_text(posts):\n",
    "    return[' '.join([post['title'], post['selftext']]) for post in posts] "
   ]
  },
  {
   "cell_type": "code",
   "execution_count": 9,
   "metadata": {},
   "outputs": [],
   "source": [
    "nosleep_text = combine_text(nosleep_posts)"
   ]
  },
  {
   "cell_type": "code",
   "execution_count": 10,
   "metadata": {},
   "outputs": [],
   "source": [
    "unresolved_text = combine_text(unresolved_posts)"
   ]
  },
  {
   "cell_type": "code",
   "execution_count": 11,
   "metadata": {},
   "outputs": [],
   "source": [
    "nosleep_df = pd.DataFrame(nosleep_text, columns=['text'])\n",
    "nosleep_df['nosleep'] = 1"
   ]
  },
  {
   "cell_type": "code",
   "execution_count": 12,
   "metadata": {},
   "outputs": [
    {
     "data": {
      "text/html": [
       "<div>\n",
       "<style scoped>\n",
       "    .dataframe tbody tr th:only-of-type {\n",
       "        vertical-align: middle;\n",
       "    }\n",
       "\n",
       "    .dataframe tbody tr th {\n",
       "        vertical-align: top;\n",
       "    }\n",
       "\n",
       "    .dataframe thead th {\n",
       "        text-align: right;\n",
       "    }\n",
       "</style>\n",
       "<table border=\"1\" class=\"dataframe\">\n",
       "  <thead>\n",
       "    <tr style=\"text-align: right;\">\n",
       "      <th></th>\n",
       "      <th>text</th>\n",
       "      <th>nosleep</th>\n",
       "    </tr>\n",
       "  </thead>\n",
       "  <tbody>\n",
       "    <tr>\n",
       "      <td>0</td>\n",
       "      <td>She Sold Happiness in Glass Jars The poster re...</td>\n",
       "      <td>1</td>\n",
       "    </tr>\n",
       "    <tr>\n",
       "      <td>1</td>\n",
       "      <td>A Shattered Life I don't know when you're goin...</td>\n",
       "      <td>1</td>\n",
       "    </tr>\n",
       "    <tr>\n",
       "      <td>2</td>\n",
       "      <td>My sugar daddy asks me for weird favors His Ti...</td>\n",
       "      <td>1</td>\n",
       "    </tr>\n",
       "    <tr>\n",
       "      <td>3</td>\n",
       "      <td>Something happened 63 years ago that's haunted...</td>\n",
       "      <td>1</td>\n",
       "    </tr>\n",
       "    <tr>\n",
       "      <td>4</td>\n",
       "      <td>My job is watching a woman trapped in a room. ...</td>\n",
       "      <td>1</td>\n",
       "    </tr>\n",
       "  </tbody>\n",
       "</table>\n",
       "</div>"
      ],
      "text/plain": [
       "                                                text  nosleep\n",
       "0  She Sold Happiness in Glass Jars The poster re...        1\n",
       "1  A Shattered Life I don't know when you're goin...        1\n",
       "2  My sugar daddy asks me for weird favors His Ti...        1\n",
       "3  Something happened 63 years ago that's haunted...        1\n",
       "4  My job is watching a woman trapped in a room. ...        1"
      ]
     },
     "execution_count": 12,
     "metadata": {},
     "output_type": "execute_result"
    }
   ],
   "source": [
    "nosleep_df.head()"
   ]
  },
  {
   "cell_type": "code",
   "execution_count": 13,
   "metadata": {},
   "outputs": [],
   "source": [
    "unresolved_df = pd.DataFrame(unresolved_text, columns=['text'])\n",
    "unresolved_df['nosleep'] = 0"
   ]
  },
  {
   "cell_type": "code",
   "execution_count": 14,
   "metadata": {},
   "outputs": [
    {
     "data": {
      "text/html": [
       "<div>\n",
       "<style scoped>\n",
       "    .dataframe tbody tr th:only-of-type {\n",
       "        vertical-align: middle;\n",
       "    }\n",
       "\n",
       "    .dataframe tbody tr th {\n",
       "        vertical-align: top;\n",
       "    }\n",
       "\n",
       "    .dataframe thead th {\n",
       "        text-align: right;\n",
       "    }\n",
       "</style>\n",
       "<table border=\"1\" class=\"dataframe\">\n",
       "  <thead>\n",
       "    <tr style=\"text-align: right;\">\n",
       "      <th></th>\n",
       "      <th>text</th>\n",
       "      <th>nosleep</th>\n",
       "    </tr>\n",
       "  </thead>\n",
       "  <tbody>\n",
       "    <tr>\n",
       "      <td>0</td>\n",
       "      <td>East Area Rapist/Original Night Stalker OFFICI...</td>\n",
       "      <td>0</td>\n",
       "    </tr>\n",
       "    <tr>\n",
       "      <td>1</td>\n",
       "      <td>Which mystery industry is the largest buyer of...</td>\n",
       "      <td>0</td>\n",
       "    </tr>\n",
       "    <tr>\n",
       "      <td>2</td>\n",
       "      <td>Netflix is reviving UNSOLVED MYSTERIES</td>\n",
       "      <td>0</td>\n",
       "    </tr>\n",
       "    <tr>\n",
       "      <td>3</td>\n",
       "      <td>Mariah Martinez, a 9yo who went missing from L...</td>\n",
       "      <td>0</td>\n",
       "    </tr>\n",
       "    <tr>\n",
       "      <td>4</td>\n",
       "      <td>Why does High School Musical's Corbin Bleu hav...</td>\n",
       "      <td>0</td>\n",
       "    </tr>\n",
       "  </tbody>\n",
       "</table>\n",
       "</div>"
      ],
      "text/plain": [
       "                                                text  nosleep\n",
       "0  East Area Rapist/Original Night Stalker OFFICI...        0\n",
       "1  Which mystery industry is the largest buyer of...        0\n",
       "2            Netflix is reviving UNSOLVED MYSTERIES         0\n",
       "3  Mariah Martinez, a 9yo who went missing from L...        0\n",
       "4  Why does High School Musical's Corbin Bleu hav...        0"
      ]
     },
     "execution_count": 14,
     "metadata": {},
     "output_type": "execute_result"
    }
   ],
   "source": [
    "unresolved_df.head()"
   ]
  },
  {
   "cell_type": "code",
   "execution_count": 15,
   "metadata": {},
   "outputs": [],
   "source": [
    "reddit = pd.concat([nosleep_df, unresolved_df], ignore_index=True)"
   ]
  },
  {
   "cell_type": "code",
   "execution_count": 16,
   "metadata": {},
   "outputs": [
    {
     "data": {
      "text/html": [
       "<div>\n",
       "<style scoped>\n",
       "    .dataframe tbody tr th:only-of-type {\n",
       "        vertical-align: middle;\n",
       "    }\n",
       "\n",
       "    .dataframe tbody tr th {\n",
       "        vertical-align: top;\n",
       "    }\n",
       "\n",
       "    .dataframe thead th {\n",
       "        text-align: right;\n",
       "    }\n",
       "</style>\n",
       "<table border=\"1\" class=\"dataframe\">\n",
       "  <thead>\n",
       "    <tr style=\"text-align: right;\">\n",
       "      <th></th>\n",
       "      <th>text</th>\n",
       "      <th>nosleep</th>\n",
       "    </tr>\n",
       "  </thead>\n",
       "  <tbody>\n",
       "    <tr>\n",
       "      <td>0</td>\n",
       "      <td>She Sold Happiness in Glass Jars The poster re...</td>\n",
       "      <td>1</td>\n",
       "    </tr>\n",
       "    <tr>\n",
       "      <td>1</td>\n",
       "      <td>A Shattered Life I don't know when you're goin...</td>\n",
       "      <td>1</td>\n",
       "    </tr>\n",
       "    <tr>\n",
       "      <td>2</td>\n",
       "      <td>My sugar daddy asks me for weird favors His Ti...</td>\n",
       "      <td>1</td>\n",
       "    </tr>\n",
       "    <tr>\n",
       "      <td>3</td>\n",
       "      <td>Something happened 63 years ago that's haunted...</td>\n",
       "      <td>1</td>\n",
       "    </tr>\n",
       "    <tr>\n",
       "      <td>4</td>\n",
       "      <td>My job is watching a woman trapped in a room. ...</td>\n",
       "      <td>1</td>\n",
       "    </tr>\n",
       "  </tbody>\n",
       "</table>\n",
       "</div>"
      ],
      "text/plain": [
       "                                                text  nosleep\n",
       "0  She Sold Happiness in Glass Jars The poster re...        1\n",
       "1  A Shattered Life I don't know when you're goin...        1\n",
       "2  My sugar daddy asks me for weird favors His Ti...        1\n",
       "3  Something happened 63 years ago that's haunted...        1\n",
       "4  My job is watching a woman trapped in a room. ...        1"
      ]
     },
     "execution_count": 16,
     "metadata": {},
     "output_type": "execute_result"
    }
   ],
   "source": [
    "reddit.head()"
   ]
  },
  {
   "cell_type": "code",
   "execution_count": 17,
   "metadata": {},
   "outputs": [
    {
     "data": {
      "text/plain": [
       "(1996, 2)"
      ]
     },
     "execution_count": 17,
     "metadata": {},
     "output_type": "execute_result"
    }
   ],
   "source": [
    "reddit.shape"
   ]
  },
  {
   "cell_type": "code",
   "execution_count": 18,
   "metadata": {
    "scrolled": true
   },
   "outputs": [],
   "source": [
    "reddit = reddit.drop_duplicates()"
   ]
  },
  {
   "cell_type": "code",
   "execution_count": 19,
   "metadata": {},
   "outputs": [
    {
     "data": {
      "text/plain": [
       "1    999\n",
       "0    997\n",
       "Name: nosleep, dtype: int64"
      ]
     },
     "execution_count": 19,
     "metadata": {},
     "output_type": "execute_result"
    }
   ],
   "source": [
    "reddit['nosleep'].value_counts()"
   ]
  },
  {
   "cell_type": "code",
   "execution_count": 20,
   "metadata": {},
   "outputs": [],
   "source": [
    "reddit['text'] = reddit.text.map(lambda x: re.sub('\\s[\\/]?r\\/[^s]+', ' ', x))\n",
    "reddit['text'] = reddit.text.map(lambda x: re.sub('http[s]?:\\/\\/[^\\s]*', ' ', x))\n",
    "reddit['text'] = reddit.text.map(lambda x: re.sub('(nosleep|unresolvedmysteries)[s]?', ' ', x, flags=re.I))\n",
    "####Im not really sure how these work, I did a lot of research trying to clean up certain characters in my data."
   ]
  },
  {
   "cell_type": "code",
   "execution_count": 21,
   "metadata": {
    "scrolled": true
   },
   "outputs": [
    {
     "data": {
      "text/html": [
       "<div>\n",
       "<style scoped>\n",
       "    .dataframe tbody tr th:only-of-type {\n",
       "        vertical-align: middle;\n",
       "    }\n",
       "\n",
       "    .dataframe tbody tr th {\n",
       "        vertical-align: top;\n",
       "    }\n",
       "\n",
       "    .dataframe thead th {\n",
       "        text-align: right;\n",
       "    }\n",
       "</style>\n",
       "<table border=\"1\" class=\"dataframe\">\n",
       "  <thead>\n",
       "    <tr style=\"text-align: right;\">\n",
       "      <th></th>\n",
       "      <th>text</th>\n",
       "      <th>nosleep</th>\n",
       "    </tr>\n",
       "  </thead>\n",
       "  <tbody>\n",
       "    <tr>\n",
       "      <td>0</td>\n",
       "      <td>She Sold Happiness in Glass Jars The poster re...</td>\n",
       "      <td>1</td>\n",
       "    </tr>\n",
       "    <tr>\n",
       "      <td>1</td>\n",
       "      <td>A Shattered Life I don't know when you're goin...</td>\n",
       "      <td>1</td>\n",
       "    </tr>\n",
       "    <tr>\n",
       "      <td>2</td>\n",
       "      <td>My sugar daddy asks me for weird favors His Ti...</td>\n",
       "      <td>1</td>\n",
       "    </tr>\n",
       "    <tr>\n",
       "      <td>3</td>\n",
       "      <td>Something happened 63 years ago that's haunted...</td>\n",
       "      <td>1</td>\n",
       "    </tr>\n",
       "    <tr>\n",
       "      <td>4</td>\n",
       "      <td>My job is watching a woman trapped in a room. ...</td>\n",
       "      <td>1</td>\n",
       "    </tr>\n",
       "    <tr>\n",
       "      <td>...</td>\n",
       "      <td>...</td>\n",
       "      <td>...</td>\n",
       "    </tr>\n",
       "    <tr>\n",
       "      <td>1991</td>\n",
       "      <td>Stéphane Parent has been arrested in connectio...</td>\n",
       "      <td>0</td>\n",
       "    </tr>\n",
       "    <tr>\n",
       "      <td>1992</td>\n",
       "      <td>(Solved) Rachel N. Owens Found Alive, Voluntar...</td>\n",
       "      <td>0</td>\n",
       "    </tr>\n",
       "    <tr>\n",
       "      <td>1993</td>\n",
       "      <td>Disappeared season 5 updated list Disappeared ...</td>\n",
       "      <td>0</td>\n",
       "    </tr>\n",
       "    <tr>\n",
       "      <td>1994</td>\n",
       "      <td>What are the things you immediately write-off ...</td>\n",
       "      <td>0</td>\n",
       "    </tr>\n",
       "    <tr>\n",
       "      <td>1995</td>\n",
       "      <td>Hey solvedMysteries! You're subreddit of the d...</td>\n",
       "      <td>0</td>\n",
       "    </tr>\n",
       "  </tbody>\n",
       "</table>\n",
       "<p>1996 rows × 2 columns</p>\n",
       "</div>"
      ],
      "text/plain": [
       "                                                   text  nosleep\n",
       "0     She Sold Happiness in Glass Jars The poster re...        1\n",
       "1     A Shattered Life I don't know when you're goin...        1\n",
       "2     My sugar daddy asks me for weird favors His Ti...        1\n",
       "3     Something happened 63 years ago that's haunted...        1\n",
       "4     My job is watching a woman trapped in a room. ...        1\n",
       "...                                                 ...      ...\n",
       "1991  Stéphane Parent has been arrested in connectio...        0\n",
       "1992  (Solved) Rachel N. Owens Found Alive, Voluntar...        0\n",
       "1993  Disappeared season 5 updated list Disappeared ...        0\n",
       "1994  What are the things you immediately write-off ...        0\n",
       "1995  Hey solvedMysteries! You're subreddit of the d...        0\n",
       "\n",
       "[1996 rows x 2 columns]"
      ]
     },
     "execution_count": 21,
     "metadata": {},
     "output_type": "execute_result"
    }
   ],
   "source": [
    "reddit"
   ]
  },
  {
   "cell_type": "code",
   "execution_count": 22,
   "metadata": {},
   "outputs": [],
   "source": [
    "reddit.to_csv('nosleep.csv', index=False)"
   ]
  },
  {
   "cell_type": "code",
   "execution_count": 74,
   "metadata": {},
   "outputs": [],
   "source": [
    "X = reddit.drop('nosleep', 1)\n",
    "y = reddit['nosleep']\n",
    "\n",
    "X_train, X_test, y_train, y_test = train_test_split(X,y, test_size=0.3, stratify=y, random_state=66)\n",
    "\n",
    "\n",
    "tfidf = TfidfVectorizer(stop_words='english', max_df= .95, min_df=5, )\n",
    "\n",
    "train_raw = tfidf.fit_transform(X_train['text'])"
   ]
  },
  {
   "cell_type": "markdown",
   "metadata": {},
   "source": [
    "create a corpus out of the list of titles fit and transform the vectorizer to the corpus."
   ]
  },
  {
   "cell_type": "code",
   "execution_count": 31,
   "metadata": {
    "scrolled": true
   },
   "outputs": [
    {
     "name": "stdout",
     "output_type": "stream",
     "text": [
      "  (0, 7122)\t0.01297908895763122\n",
      "  (0, 1467)\t0.01690254935452068\n",
      "  (0, 7398)\t0.012799860510626532\n",
      "  (0, 5046)\t0.02052560471921718\n",
      "  (0, 6981)\t0.015289700001261992\n",
      "  (0, 9009)\t0.02101645804676114\n",
      "  (0, 4012)\t0.011841460628812372\n",
      "  (0, 4333)\t0.014615415620184246\n",
      "  (0, 6071)\t0.018807393096075768\n",
      "  (0, 6508)\t0.018488589077060056\n",
      "  (0, 2871)\t0.012699684159973584\n",
      "  (0, 7671)\t0.026504506983267503\n",
      "  (0, 12003)\t0.01617267090249092\n",
      "  (0, 4561)\t0.037420099219318936\n",
      "  (0, 8658)\t0.02733142340972744\n",
      "  (0, 7810)\t0.023280697924130532\n",
      "  (0, 6279)\t0.023414979108702917\n",
      "  (0, 804)\t0.029953732060924988\n",
      "  (0, 7642)\t0.014803307043951419\n",
      "  (0, 5435)\t0.014996964507340614\n",
      "  (0, 10772)\t0.03413976699628279\n",
      "  (0, 1159)\t0.013478828363222011\n",
      "  (0, 1525)\t0.01759170363791926\n",
      "  (0, 5906)\t0.024606454260007637\n",
      "  (0, 1318)\t0.02893148230482961\n",
      "  :\t:\n",
      "  (1396, 11770)\t0.011135633664374343\n",
      "  (1396, 4141)\t0.040827693077151644\n",
      "  (1396, 9386)\t0.02236842432321561\n",
      "  (1396, 11185)\t0.012680243650765912\n",
      "  (1396, 3350)\t0.014389265846812674\n",
      "  (1396, 3345)\t0.06350415591301987\n",
      "  (1396, 1691)\t0.03287376730293016\n",
      "  (1396, 5112)\t0.011762244577693055\n",
      "  (1396, 11744)\t0.012692278366050492\n",
      "  (1396, 1077)\t0.02052383461868055\n",
      "  (1396, 6371)\t0.06814477918090421\n",
      "  (1396, 2801)\t0.056872392808616334\n",
      "  (1396, 5134)\t0.013678950468675866\n",
      "  (1396, 6000)\t0.05179381971996291\n",
      "  (1396, 8544)\t0.01621900507523254\n",
      "  (1396, 3144)\t0.01948256249810549\n",
      "  (1396, 6316)\t0.1114855040118473\n",
      "  (1396, 11841)\t0.017547378519062535\n",
      "  (1396, 10179)\t0.011985286831499457\n",
      "  (1396, 8536)\t0.06891764741711023\n",
      "  (1396, 10882)\t0.0112119367299938\n",
      "  (1396, 10528)\t0.012295095943069215\n",
      "  (1396, 6098)\t0.05687283411079883\n",
      "  (1396, 3359)\t0.09180904509718686\n",
      "  (1396, 11576)\t0.1251482656596668\n"
     ]
    }
   ],
   "source": [
    "print(train_raw)"
   ]
  },
  {
   "cell_type": "markdown",
   "metadata": {},
   "source": [
    "convert vectoried data into df"
   ]
  },
  {
   "cell_type": "code",
   "execution_count": 32,
   "metadata": {
    "scrolled": false
   },
   "outputs": [
    {
     "data": {
      "text/html": [
       "<div>\n",
       "<style scoped>\n",
       "    .dataframe tbody tr th:only-of-type {\n",
       "        vertical-align: middle;\n",
       "    }\n",
       "\n",
       "    .dataframe tbody tr th {\n",
       "        vertical-align: top;\n",
       "    }\n",
       "\n",
       "    .dataframe thead th {\n",
       "        text-align: right;\n",
       "    }\n",
       "</style>\n",
       "<table border=\"1\" class=\"dataframe\">\n",
       "  <thead>\n",
       "    <tr style=\"text-align: right;\">\n",
       "      <th></th>\n",
       "      <th>00</th>\n",
       "      <th>000</th>\n",
       "      <th>00am</th>\n",
       "      <th>00pm</th>\n",
       "      <th>01</th>\n",
       "      <th>02</th>\n",
       "      <th>03</th>\n",
       "      <th>04</th>\n",
       "      <th>05</th>\n",
       "      <th>06</th>\n",
       "      <th>...</th>\n",
       "      <th>zealand</th>\n",
       "      <th>zero</th>\n",
       "      <th>zip</th>\n",
       "      <th>zipped</th>\n",
       "      <th>zodiac</th>\n",
       "      <th>zombie</th>\n",
       "      <th>zone</th>\n",
       "      <th>zoning</th>\n",
       "      <th>zoo</th>\n",
       "      <th>zoomed</th>\n",
       "    </tr>\n",
       "  </thead>\n",
       "  <tbody>\n",
       "    <tr>\n",
       "      <td>0</td>\n",
       "      <td>NaN</td>\n",
       "      <td>NaN</td>\n",
       "      <td>NaN</td>\n",
       "      <td>NaN</td>\n",
       "      <td>NaN</td>\n",
       "      <td>NaN</td>\n",
       "      <td>NaN</td>\n",
       "      <td>NaN</td>\n",
       "      <td>NaN</td>\n",
       "      <td>NaN</td>\n",
       "      <td>...</td>\n",
       "      <td>NaN</td>\n",
       "      <td>NaN</td>\n",
       "      <td>NaN</td>\n",
       "      <td>NaN</td>\n",
       "      <td>NaN</td>\n",
       "      <td>NaN</td>\n",
       "      <td>NaN</td>\n",
       "      <td>NaN</td>\n",
       "      <td>NaN</td>\n",
       "      <td>NaN</td>\n",
       "    </tr>\n",
       "    <tr>\n",
       "      <td>1</td>\n",
       "      <td>NaN</td>\n",
       "      <td>NaN</td>\n",
       "      <td>NaN</td>\n",
       "      <td>NaN</td>\n",
       "      <td>NaN</td>\n",
       "      <td>NaN</td>\n",
       "      <td>NaN</td>\n",
       "      <td>NaN</td>\n",
       "      <td>NaN</td>\n",
       "      <td>NaN</td>\n",
       "      <td>...</td>\n",
       "      <td>NaN</td>\n",
       "      <td>NaN</td>\n",
       "      <td>NaN</td>\n",
       "      <td>NaN</td>\n",
       "      <td>NaN</td>\n",
       "      <td>NaN</td>\n",
       "      <td>NaN</td>\n",
       "      <td>NaN</td>\n",
       "      <td>NaN</td>\n",
       "      <td>NaN</td>\n",
       "    </tr>\n",
       "    <tr>\n",
       "      <td>2</td>\n",
       "      <td>NaN</td>\n",
       "      <td>NaN</td>\n",
       "      <td>NaN</td>\n",
       "      <td>NaN</td>\n",
       "      <td>NaN</td>\n",
       "      <td>NaN</td>\n",
       "      <td>NaN</td>\n",
       "      <td>NaN</td>\n",
       "      <td>NaN</td>\n",
       "      <td>NaN</td>\n",
       "      <td>...</td>\n",
       "      <td>NaN</td>\n",
       "      <td>0.053444</td>\n",
       "      <td>NaN</td>\n",
       "      <td>NaN</td>\n",
       "      <td>NaN</td>\n",
       "      <td>NaN</td>\n",
       "      <td>NaN</td>\n",
       "      <td>NaN</td>\n",
       "      <td>NaN</td>\n",
       "      <td>NaN</td>\n",
       "    </tr>\n",
       "    <tr>\n",
       "      <td>3</td>\n",
       "      <td>NaN</td>\n",
       "      <td>NaN</td>\n",
       "      <td>NaN</td>\n",
       "      <td>NaN</td>\n",
       "      <td>NaN</td>\n",
       "      <td>NaN</td>\n",
       "      <td>NaN</td>\n",
       "      <td>NaN</td>\n",
       "      <td>NaN</td>\n",
       "      <td>NaN</td>\n",
       "      <td>...</td>\n",
       "      <td>NaN</td>\n",
       "      <td>NaN</td>\n",
       "      <td>NaN</td>\n",
       "      <td>NaN</td>\n",
       "      <td>NaN</td>\n",
       "      <td>NaN</td>\n",
       "      <td>NaN</td>\n",
       "      <td>NaN</td>\n",
       "      <td>NaN</td>\n",
       "      <td>NaN</td>\n",
       "    </tr>\n",
       "    <tr>\n",
       "      <td>4</td>\n",
       "      <td>NaN</td>\n",
       "      <td>NaN</td>\n",
       "      <td>NaN</td>\n",
       "      <td>NaN</td>\n",
       "      <td>NaN</td>\n",
       "      <td>NaN</td>\n",
       "      <td>NaN</td>\n",
       "      <td>NaN</td>\n",
       "      <td>NaN</td>\n",
       "      <td>NaN</td>\n",
       "      <td>...</td>\n",
       "      <td>NaN</td>\n",
       "      <td>NaN</td>\n",
       "      <td>NaN</td>\n",
       "      <td>NaN</td>\n",
       "      <td>NaN</td>\n",
       "      <td>NaN</td>\n",
       "      <td>NaN</td>\n",
       "      <td>NaN</td>\n",
       "      <td>NaN</td>\n",
       "      <td>NaN</td>\n",
       "    </tr>\n",
       "  </tbody>\n",
       "</table>\n",
       "<p>5 rows × 12143 columns</p>\n",
       "</div>"
      ],
      "text/plain": [
       "   00  000  00am  00pm  01  02  03  04  05  06  ...  zealand      zero  zip  \\\n",
       "0 NaN  NaN   NaN   NaN NaN NaN NaN NaN NaN NaN  ...      NaN       NaN  NaN   \n",
       "1 NaN  NaN   NaN   NaN NaN NaN NaN NaN NaN NaN  ...      NaN       NaN  NaN   \n",
       "2 NaN  NaN   NaN   NaN NaN NaN NaN NaN NaN NaN  ...      NaN  0.053444  NaN   \n",
       "3 NaN  NaN   NaN   NaN NaN NaN NaN NaN NaN NaN  ...      NaN       NaN  NaN   \n",
       "4 NaN  NaN   NaN   NaN NaN NaN NaN NaN NaN NaN  ...      NaN       NaN  NaN   \n",
       "\n",
       "   zipped  zodiac  zombie  zone  zoning  zoo  zoomed  \n",
       "0     NaN     NaN     NaN   NaN     NaN  NaN     NaN  \n",
       "1     NaN     NaN     NaN   NaN     NaN  NaN     NaN  \n",
       "2     NaN     NaN     NaN   NaN     NaN  NaN     NaN  \n",
       "3     NaN     NaN     NaN   NaN     NaN  NaN     NaN  \n",
       "4     NaN     NaN     NaN   NaN     NaN  NaN     NaN  \n",
       "\n",
       "[5 rows x 12143 columns]"
      ]
     },
     "execution_count": 32,
     "metadata": {},
     "output_type": "execute_result"
    }
   ],
   "source": [
    "train_df = pd.SparseDataFrame(train_raw, columns=tfidf.get_feature_names())\n",
    "\n",
    "train_df.head()"
   ]
  },
  {
   "cell_type": "code",
   "execution_count": 33,
   "metadata": {},
   "outputs": [
    {
     "data": {
      "text/plain": [
       "00        Sparse[float64, nan]\n",
       "000       Sparse[float64, nan]\n",
       "00am      Sparse[float64, nan]\n",
       "00pm      Sparse[float64, nan]\n",
       "01        Sparse[float64, nan]\n",
       "                  ...         \n",
       "zombie    Sparse[float64, nan]\n",
       "zone      Sparse[float64, nan]\n",
       "zoning    Sparse[float64, nan]\n",
       "zoo       Sparse[float64, nan]\n",
       "zoomed    Sparse[float64, nan]\n",
       "Length: 12143, dtype: object"
      ]
     },
     "execution_count": 33,
     "metadata": {},
     "output_type": "execute_result"
    }
   ],
   "source": [
    "train_df.dtypes"
   ]
  },
  {
   "cell_type": "markdown",
   "metadata": {},
   "source": [
    "filling na with 0"
   ]
  },
  {
   "cell_type": "code",
   "execution_count": 34,
   "metadata": {
    "scrolled": false
   },
   "outputs": [
    {
     "data": {
      "text/plain": [
       "00        0\n",
       "000       0\n",
       "00am      0\n",
       "00pm      0\n",
       "01        0\n",
       "         ..\n",
       "zombie    0\n",
       "zone      0\n",
       "zoning    0\n",
       "zoo       0\n",
       "zoomed    0\n",
       "Length: 12143, dtype: int64"
      ]
     },
     "execution_count": 34,
     "metadata": {},
     "output_type": "execute_result"
    }
   ],
   "source": [
    "train_df.fillna(0, inplace=True)\n",
    "train_df.isnull().sum()"
   ]
  },
  {
   "cell_type": "code",
   "execution_count": 35,
   "metadata": {
    "scrolled": false
   },
   "outputs": [
    {
     "data": {
      "text/html": [
       "<div>\n",
       "<style scoped>\n",
       "    .dataframe tbody tr th:only-of-type {\n",
       "        vertical-align: middle;\n",
       "    }\n",
       "\n",
       "    .dataframe tbody tr th {\n",
       "        vertical-align: top;\n",
       "    }\n",
       "\n",
       "    .dataframe thead th {\n",
       "        text-align: right;\n",
       "    }\n",
       "</style>\n",
       "<table border=\"1\" class=\"dataframe\">\n",
       "  <thead>\n",
       "    <tr style=\"text-align: right;\">\n",
       "      <th></th>\n",
       "      <th>00</th>\n",
       "      <th>000</th>\n",
       "      <th>00am</th>\n",
       "      <th>00pm</th>\n",
       "      <th>01</th>\n",
       "      <th>02</th>\n",
       "      <th>03</th>\n",
       "      <th>04</th>\n",
       "      <th>05</th>\n",
       "      <th>06</th>\n",
       "      <th>...</th>\n",
       "      <th>zealand</th>\n",
       "      <th>zero</th>\n",
       "      <th>zip</th>\n",
       "      <th>zipped</th>\n",
       "      <th>zodiac</th>\n",
       "      <th>zombie</th>\n",
       "      <th>zone</th>\n",
       "      <th>zoning</th>\n",
       "      <th>zoo</th>\n",
       "      <th>zoomed</th>\n",
       "    </tr>\n",
       "  </thead>\n",
       "  <tbody>\n",
       "    <tr>\n",
       "      <td>0</td>\n",
       "      <td>0.0</td>\n",
       "      <td>0.0</td>\n",
       "      <td>0.0</td>\n",
       "      <td>0.0</td>\n",
       "      <td>0.0</td>\n",
       "      <td>0.0</td>\n",
       "      <td>0.0</td>\n",
       "      <td>0.0</td>\n",
       "      <td>0.0</td>\n",
       "      <td>0.0</td>\n",
       "      <td>...</td>\n",
       "      <td>0.0</td>\n",
       "      <td>0.000000</td>\n",
       "      <td>0.0</td>\n",
       "      <td>0.0</td>\n",
       "      <td>0.0</td>\n",
       "      <td>0.0</td>\n",
       "      <td>0.0</td>\n",
       "      <td>0.0</td>\n",
       "      <td>0.0</td>\n",
       "      <td>0.0</td>\n",
       "    </tr>\n",
       "    <tr>\n",
       "      <td>1</td>\n",
       "      <td>0.0</td>\n",
       "      <td>0.0</td>\n",
       "      <td>0.0</td>\n",
       "      <td>0.0</td>\n",
       "      <td>0.0</td>\n",
       "      <td>0.0</td>\n",
       "      <td>0.0</td>\n",
       "      <td>0.0</td>\n",
       "      <td>0.0</td>\n",
       "      <td>0.0</td>\n",
       "      <td>...</td>\n",
       "      <td>0.0</td>\n",
       "      <td>0.000000</td>\n",
       "      <td>0.0</td>\n",
       "      <td>0.0</td>\n",
       "      <td>0.0</td>\n",
       "      <td>0.0</td>\n",
       "      <td>0.0</td>\n",
       "      <td>0.0</td>\n",
       "      <td>0.0</td>\n",
       "      <td>0.0</td>\n",
       "    </tr>\n",
       "    <tr>\n",
       "      <td>2</td>\n",
       "      <td>0.0</td>\n",
       "      <td>0.0</td>\n",
       "      <td>0.0</td>\n",
       "      <td>0.0</td>\n",
       "      <td>0.0</td>\n",
       "      <td>0.0</td>\n",
       "      <td>0.0</td>\n",
       "      <td>0.0</td>\n",
       "      <td>0.0</td>\n",
       "      <td>0.0</td>\n",
       "      <td>...</td>\n",
       "      <td>0.0</td>\n",
       "      <td>0.053444</td>\n",
       "      <td>0.0</td>\n",
       "      <td>0.0</td>\n",
       "      <td>0.0</td>\n",
       "      <td>0.0</td>\n",
       "      <td>0.0</td>\n",
       "      <td>0.0</td>\n",
       "      <td>0.0</td>\n",
       "      <td>0.0</td>\n",
       "    </tr>\n",
       "    <tr>\n",
       "      <td>3</td>\n",
       "      <td>0.0</td>\n",
       "      <td>0.0</td>\n",
       "      <td>0.0</td>\n",
       "      <td>0.0</td>\n",
       "      <td>0.0</td>\n",
       "      <td>0.0</td>\n",
       "      <td>0.0</td>\n",
       "      <td>0.0</td>\n",
       "      <td>0.0</td>\n",
       "      <td>0.0</td>\n",
       "      <td>...</td>\n",
       "      <td>0.0</td>\n",
       "      <td>0.000000</td>\n",
       "      <td>0.0</td>\n",
       "      <td>0.0</td>\n",
       "      <td>0.0</td>\n",
       "      <td>0.0</td>\n",
       "      <td>0.0</td>\n",
       "      <td>0.0</td>\n",
       "      <td>0.0</td>\n",
       "      <td>0.0</td>\n",
       "    </tr>\n",
       "    <tr>\n",
       "      <td>4</td>\n",
       "      <td>0.0</td>\n",
       "      <td>0.0</td>\n",
       "      <td>0.0</td>\n",
       "      <td>0.0</td>\n",
       "      <td>0.0</td>\n",
       "      <td>0.0</td>\n",
       "      <td>0.0</td>\n",
       "      <td>0.0</td>\n",
       "      <td>0.0</td>\n",
       "      <td>0.0</td>\n",
       "      <td>...</td>\n",
       "      <td>0.0</td>\n",
       "      <td>0.000000</td>\n",
       "      <td>0.0</td>\n",
       "      <td>0.0</td>\n",
       "      <td>0.0</td>\n",
       "      <td>0.0</td>\n",
       "      <td>0.0</td>\n",
       "      <td>0.0</td>\n",
       "      <td>0.0</td>\n",
       "      <td>0.0</td>\n",
       "    </tr>\n",
       "  </tbody>\n",
       "</table>\n",
       "<p>5 rows × 12143 columns</p>\n",
       "</div>"
      ],
      "text/plain": [
       "    00  000  00am  00pm   01   02   03   04   05   06  ...  zealand      zero  \\\n",
       "0  0.0  0.0   0.0   0.0  0.0  0.0  0.0  0.0  0.0  0.0  ...      0.0  0.000000   \n",
       "1  0.0  0.0   0.0   0.0  0.0  0.0  0.0  0.0  0.0  0.0  ...      0.0  0.000000   \n",
       "2  0.0  0.0   0.0   0.0  0.0  0.0  0.0  0.0  0.0  0.0  ...      0.0  0.053444   \n",
       "3  0.0  0.0   0.0   0.0  0.0  0.0  0.0  0.0  0.0  0.0  ...      0.0  0.000000   \n",
       "4  0.0  0.0   0.0   0.0  0.0  0.0  0.0  0.0  0.0  0.0  ...      0.0  0.000000   \n",
       "\n",
       "   zip  zipped  zodiac  zombie  zone  zoning  zoo  zoomed  \n",
       "0  0.0     0.0     0.0     0.0   0.0     0.0  0.0     0.0  \n",
       "1  0.0     0.0     0.0     0.0   0.0     0.0  0.0     0.0  \n",
       "2  0.0     0.0     0.0     0.0   0.0     0.0  0.0     0.0  \n",
       "3  0.0     0.0     0.0     0.0   0.0     0.0  0.0     0.0  \n",
       "4  0.0     0.0     0.0     0.0   0.0     0.0  0.0     0.0  \n",
       "\n",
       "[5 rows x 12143 columns]"
      ]
     },
     "execution_count": 35,
     "metadata": {},
     "output_type": "execute_result"
    }
   ],
   "source": [
    "train_df.head()"
   ]
  },
  {
   "cell_type": "code",
   "execution_count": 36,
   "metadata": {},
   "outputs": [
    {
     "data": {
      "text/html": [
       "<div>\n",
       "<style scoped>\n",
       "    .dataframe tbody tr th:only-of-type {\n",
       "        vertical-align: middle;\n",
       "    }\n",
       "\n",
       "    .dataframe tbody tr th {\n",
       "        vertical-align: top;\n",
       "    }\n",
       "\n",
       "    .dataframe thead th {\n",
       "        text-align: right;\n",
       "    }\n",
       "</style>\n",
       "<table border=\"1\" class=\"dataframe\">\n",
       "  <thead>\n",
       "    <tr style=\"text-align: right;\">\n",
       "      <th></th>\n",
       "      <th>text</th>\n",
       "    </tr>\n",
       "  </thead>\n",
       "  <tbody>\n",
       "    <tr>\n",
       "      <td>753</td>\n",
       "      <td>I used to hack baby monitors. One night, I lea...</td>\n",
       "    </tr>\n",
       "    <tr>\n",
       "      <td>1399</td>\n",
       "      <td>Doug Cleaves, a single father and double amput...</td>\n",
       "    </tr>\n",
       "    <tr>\n",
       "      <td>921</td>\n",
       "      <td>Do you know how many people went missing in th...</td>\n",
       "    </tr>\n",
       "    <tr>\n",
       "      <td>1052</td>\n",
       "      <td>In the spirit of Halloween, what are some of t...</td>\n",
       "    </tr>\n",
       "    <tr>\n",
       "      <td>162</td>\n",
       "      <td>I used FaceApp, which shows what you'll look l...</td>\n",
       "    </tr>\n",
       "  </tbody>\n",
       "</table>\n",
       "</div>"
      ],
      "text/plain": [
       "                                                   text\n",
       "753   I used to hack baby monitors. One night, I lea...\n",
       "1399  Doug Cleaves, a single father and double amput...\n",
       "921   Do you know how many people went missing in th...\n",
       "1052  In the spirit of Halloween, what are some of t...\n",
       "162   I used FaceApp, which shows what you'll look l..."
      ]
     },
     "execution_count": 36,
     "metadata": {},
     "output_type": "execute_result"
    }
   ],
   "source": [
    "X_test.head()"
   ]
  },
  {
   "cell_type": "code",
   "execution_count": 37,
   "metadata": {},
   "outputs": [
    {
     "data": {
      "text/html": [
       "<div>\n",
       "<style scoped>\n",
       "    .dataframe tbody tr th:only-of-type {\n",
       "        vertical-align: middle;\n",
       "    }\n",
       "\n",
       "    .dataframe tbody tr th {\n",
       "        vertical-align: top;\n",
       "    }\n",
       "\n",
       "    .dataframe thead th {\n",
       "        text-align: right;\n",
       "    }\n",
       "</style>\n",
       "<table border=\"1\" class=\"dataframe\">\n",
       "  <thead>\n",
       "    <tr style=\"text-align: right;\">\n",
       "      <th></th>\n",
       "      <th>00</th>\n",
       "      <th>000</th>\n",
       "      <th>00am</th>\n",
       "      <th>00pm</th>\n",
       "      <th>01</th>\n",
       "      <th>02</th>\n",
       "      <th>03</th>\n",
       "      <th>04</th>\n",
       "      <th>05</th>\n",
       "      <th>06</th>\n",
       "      <th>...</th>\n",
       "      <th>zealand</th>\n",
       "      <th>zero</th>\n",
       "      <th>zip</th>\n",
       "      <th>zipped</th>\n",
       "      <th>zodiac</th>\n",
       "      <th>zombie</th>\n",
       "      <th>zone</th>\n",
       "      <th>zoning</th>\n",
       "      <th>zoo</th>\n",
       "      <th>zoomed</th>\n",
       "    </tr>\n",
       "  </thead>\n",
       "  <tbody>\n",
       "    <tr>\n",
       "      <td>0</td>\n",
       "      <td>0.0</td>\n",
       "      <td>0.000000</td>\n",
       "      <td>0.0</td>\n",
       "      <td>0.0</td>\n",
       "      <td>0.0</td>\n",
       "      <td>0.0</td>\n",
       "      <td>0.0</td>\n",
       "      <td>0.0</td>\n",
       "      <td>0.0</td>\n",
       "      <td>0.0</td>\n",
       "      <td>...</td>\n",
       "      <td>0.0</td>\n",
       "      <td>0.0</td>\n",
       "      <td>0.0</td>\n",
       "      <td>0.032573</td>\n",
       "      <td>0.0</td>\n",
       "      <td>0.000000</td>\n",
       "      <td>0.0</td>\n",
       "      <td>0.0</td>\n",
       "      <td>0.0</td>\n",
       "      <td>0.0</td>\n",
       "    </tr>\n",
       "    <tr>\n",
       "      <td>1</td>\n",
       "      <td>0.0</td>\n",
       "      <td>0.013955</td>\n",
       "      <td>0.0</td>\n",
       "      <td>0.0</td>\n",
       "      <td>0.0</td>\n",
       "      <td>0.0</td>\n",
       "      <td>0.0</td>\n",
       "      <td>0.0</td>\n",
       "      <td>0.0</td>\n",
       "      <td>0.0</td>\n",
       "      <td>...</td>\n",
       "      <td>0.0</td>\n",
       "      <td>0.0</td>\n",
       "      <td>0.0</td>\n",
       "      <td>0.000000</td>\n",
       "      <td>0.0</td>\n",
       "      <td>0.000000</td>\n",
       "      <td>0.0</td>\n",
       "      <td>0.0</td>\n",
       "      <td>0.0</td>\n",
       "      <td>0.0</td>\n",
       "    </tr>\n",
       "    <tr>\n",
       "      <td>2</td>\n",
       "      <td>0.0</td>\n",
       "      <td>0.011087</td>\n",
       "      <td>0.0</td>\n",
       "      <td>0.0</td>\n",
       "      <td>0.0</td>\n",
       "      <td>0.0</td>\n",
       "      <td>0.0</td>\n",
       "      <td>0.0</td>\n",
       "      <td>0.0</td>\n",
       "      <td>0.0</td>\n",
       "      <td>...</td>\n",
       "      <td>0.0</td>\n",
       "      <td>0.0</td>\n",
       "      <td>0.0</td>\n",
       "      <td>0.000000</td>\n",
       "      <td>0.0</td>\n",
       "      <td>0.000000</td>\n",
       "      <td>0.0</td>\n",
       "      <td>0.0</td>\n",
       "      <td>0.0</td>\n",
       "      <td>0.0</td>\n",
       "    </tr>\n",
       "    <tr>\n",
       "      <td>3</td>\n",
       "      <td>0.0</td>\n",
       "      <td>0.000000</td>\n",
       "      <td>0.0</td>\n",
       "      <td>0.0</td>\n",
       "      <td>0.0</td>\n",
       "      <td>0.0</td>\n",
       "      <td>0.0</td>\n",
       "      <td>0.0</td>\n",
       "      <td>0.0</td>\n",
       "      <td>0.0</td>\n",
       "      <td>...</td>\n",
       "      <td>0.0</td>\n",
       "      <td>0.0</td>\n",
       "      <td>0.0</td>\n",
       "      <td>0.000000</td>\n",
       "      <td>0.0</td>\n",
       "      <td>0.000000</td>\n",
       "      <td>0.0</td>\n",
       "      <td>0.0</td>\n",
       "      <td>0.0</td>\n",
       "      <td>0.0</td>\n",
       "    </tr>\n",
       "    <tr>\n",
       "      <td>4</td>\n",
       "      <td>0.0</td>\n",
       "      <td>0.000000</td>\n",
       "      <td>0.0</td>\n",
       "      <td>0.0</td>\n",
       "      <td>0.0</td>\n",
       "      <td>0.0</td>\n",
       "      <td>0.0</td>\n",
       "      <td>0.0</td>\n",
       "      <td>0.0</td>\n",
       "      <td>0.0</td>\n",
       "      <td>...</td>\n",
       "      <td>0.0</td>\n",
       "      <td>0.0</td>\n",
       "      <td>0.0</td>\n",
       "      <td>0.000000</td>\n",
       "      <td>0.0</td>\n",
       "      <td>0.168999</td>\n",
       "      <td>0.0</td>\n",
       "      <td>0.0</td>\n",
       "      <td>0.0</td>\n",
       "      <td>0.0</td>\n",
       "    </tr>\n",
       "  </tbody>\n",
       "</table>\n",
       "<p>5 rows × 12143 columns</p>\n",
       "</div>"
      ],
      "text/plain": [
       "    00       000  00am  00pm   01   02   03   04   05   06  ...  zealand  \\\n",
       "0  0.0  0.000000   0.0   0.0  0.0  0.0  0.0  0.0  0.0  0.0  ...      0.0   \n",
       "1  0.0  0.013955   0.0   0.0  0.0  0.0  0.0  0.0  0.0  0.0  ...      0.0   \n",
       "2  0.0  0.011087   0.0   0.0  0.0  0.0  0.0  0.0  0.0  0.0  ...      0.0   \n",
       "3  0.0  0.000000   0.0   0.0  0.0  0.0  0.0  0.0  0.0  0.0  ...      0.0   \n",
       "4  0.0  0.000000   0.0   0.0  0.0  0.0  0.0  0.0  0.0  0.0  ...      0.0   \n",
       "\n",
       "   zero  zip    zipped  zodiac    zombie  zone  zoning  zoo  zoomed  \n",
       "0   0.0  0.0  0.032573     0.0  0.000000   0.0     0.0  0.0     0.0  \n",
       "1   0.0  0.0  0.000000     0.0  0.000000   0.0     0.0  0.0     0.0  \n",
       "2   0.0  0.0  0.000000     0.0  0.000000   0.0     0.0  0.0     0.0  \n",
       "3   0.0  0.0  0.000000     0.0  0.000000   0.0     0.0  0.0     0.0  \n",
       "4   0.0  0.0  0.000000     0.0  0.168999   0.0     0.0  0.0     0.0  \n",
       "\n",
       "[5 rows x 12143 columns]"
      ]
     },
     "execution_count": 37,
     "metadata": {},
     "output_type": "execute_result"
    }
   ],
   "source": [
    "#transforming and filling nulls with 0\n",
    "test_raw = tfidf.transform(X_test['text'])\n",
    "test_df = pd.SparseDataFrame(test_raw,columns=tfidf.get_feature_names())\n",
    "test_df.fillna(0, inplace=True)\n",
    "test_df.head()"
   ]
  },
  {
   "cell_type": "markdown",
   "metadata": {},
   "source": [
    "fit model using no sleep as the target"
   ]
  },
  {
   "cell_type": "markdown",
   "metadata": {},
   "source": [
    "Gridsearching over randomforest classifier fitting and scoring"
   ]
  },
  {
   "cell_type": "code",
   "execution_count": 38,
   "metadata": {},
   "outputs": [],
   "source": [
    "params = { \n",
    "    'min_samples_split' : [12, 25, 40],  \n",
    "}\n",
    "\n",
    "rf = RandomForestClassifier(n_estimators=100)\n",
    "\n",
    "gs = GridSearchCV(rf, param_grid=params, return_train_score=True, cv=5)\n",
    "\n",
    "gs.fit(train_df, y_train)\n",
    "gs.score(train_df,y_train)"
   ]
  },
  {
   "cell_type": "code",
   "execution_count": 42,
   "metadata": {},
   "outputs": [
    {
     "data": {
      "text/plain": [
       "0.9699499165275459"
      ]
     },
     "execution_count": 42,
     "metadata": {},
     "output_type": "execute_result"
    }
   ],
   "source": [
    "gs.score(test_df,y_test)"
   ]
  },
  {
   "cell_type": "code",
   "execution_count": 43,
   "metadata": {},
   "outputs": [
    {
     "data": {
      "text/plain": [
       "{'min_samples_split': 12}"
      ]
     },
     "execution_count": 43,
     "metadata": {},
     "output_type": "execute_result"
    }
   ],
   "source": [
    "gs.best_params_"
   ]
  },
  {
   "cell_type": "code",
   "execution_count": 44,
   "metadata": {},
   "outputs": [
    {
     "data": {
      "text/plain": [
       "array([7.14747733e-05, 1.78328951e-04, 0.00000000e+00, ...,\n",
       "       0.00000000e+00, 0.00000000e+00, 0.00000000e+00])"
      ]
     },
     "execution_count": 44,
     "metadata": {},
     "output_type": "execute_result"
    }
   ],
   "source": [
    "gs.best_estimator_.feature_importances_"
   ]
  },
  {
   "cell_type": "code",
   "execution_count": 45,
   "metadata": {},
   "outputs": [],
   "source": [
    "feat_importance = pd.DataFrame(gs.best_estimator_.feature_importances_, train_df.columns, columns=['importance'])\n",
    "\n",
    "feat_importance\n"
   ]
  },
  {
   "cell_type": "code",
   "execution_count": null,
   "metadata": {},
   "outputs": [],
   "source": []
  },
  {
   "cell_type": "code",
   "execution_count": 136,
   "metadata": {},
   "outputs": [
    {
     "ename": "KeyError",
     "evalue": "'importance'",
     "output_type": "error",
     "traceback": [
      "\u001b[0;31m---------------------------------------------------------------------------\u001b[0m",
      "\u001b[0;31mKeyError\u001b[0m                                  Traceback (most recent call last)",
      "\u001b[0;32m<ipython-input-136-0c7f5109e526>\u001b[0m in \u001b[0;36m<module>\u001b[0;34m\u001b[0m\n\u001b[1;32m      1\u001b[0m \u001b[0mplt\u001b[0m\u001b[0;34m.\u001b[0m\u001b[0mfigure\u001b[0m\u001b[0;34m(\u001b[0m\u001b[0mfigsize\u001b[0m\u001b[0;34m=\u001b[0m\u001b[0;34m(\u001b[0m\u001b[0;36m16\u001b[0m\u001b[0;34m,\u001b[0m\u001b[0;36m9\u001b[0m\u001b[0;34m)\u001b[0m\u001b[0;34m)\u001b[0m\u001b[0;34m\u001b[0m\u001b[0;34m\u001b[0m\u001b[0m\n\u001b[0;32m----> 2\u001b[0;31m \u001b[0mtemp\u001b[0m \u001b[0;34m=\u001b[0m \u001b[0mfeat_importance\u001b[0m\u001b[0;34m.\u001b[0m\u001b[0msort_values\u001b[0m\u001b[0;34m(\u001b[0m\u001b[0;34m'importance'\u001b[0m\u001b[0;34m,\u001b[0m \u001b[0mascending\u001b[0m\u001b[0;34m=\u001b[0m\u001b[0;32mFalse\u001b[0m\u001b[0;34m)\u001b[0m\u001b[0;34m.\u001b[0m\u001b[0mhead\u001b[0m\u001b[0;34m(\u001b[0m\u001b[0;36m20\u001b[0m\u001b[0;34m)\u001b[0m\u001b[0;34m\u001b[0m\u001b[0;34m\u001b[0m\u001b[0m\n\u001b[0m\u001b[1;32m      3\u001b[0m \u001b[0mplt\u001b[0m\u001b[0;34m.\u001b[0m\u001b[0mbarh\u001b[0m\u001b[0;34m(\u001b[0m\u001b[0mtemp\u001b[0m\u001b[0;34m.\u001b[0m\u001b[0mindex\u001b[0m\u001b[0;34m,\u001b[0m\u001b[0mtemp\u001b[0m\u001b[0;34m[\u001b[0m\u001b[0;34m'importance'\u001b[0m\u001b[0;34m]\u001b[0m\u001b[0;34m)\u001b[0m\u001b[0;34m\u001b[0m\u001b[0;34m\u001b[0m\u001b[0m\n\u001b[1;32m      4\u001b[0m \u001b[0mplt\u001b[0m\u001b[0;34m.\u001b[0m\u001b[0mtitle\u001b[0m\u001b[0;34m(\u001b[0m\u001b[0;34m'Top 20 Features'\u001b[0m\u001b[0;34m,\u001b[0m \u001b[0mfontsize\u001b[0m\u001b[0;34m=\u001b[0m\u001b[0;36m30\u001b[0m\u001b[0;34m)\u001b[0m\u001b[0;34m\u001b[0m\u001b[0;34m\u001b[0m\u001b[0m\n\u001b[1;32m      5\u001b[0m \u001b[0mplt\u001b[0m\u001b[0;34m.\u001b[0m\u001b[0mxlabel\u001b[0m\u001b[0;34m(\u001b[0m\u001b[0;34m'Amount of information gained'\u001b[0m\u001b[0;34m)\u001b[0m\u001b[0;34m\u001b[0m\u001b[0;34m\u001b[0m\u001b[0m\n",
      "\u001b[0;32m//anaconda3/lib/python3.7/site-packages/pandas/core/frame.py\u001b[0m in \u001b[0;36msort_values\u001b[0;34m(self, by, axis, ascending, inplace, kind, na_position)\u001b[0m\n\u001b[1;32m   4991\u001b[0m \u001b[0;34m\u001b[0m\u001b[0m\n\u001b[1;32m   4992\u001b[0m             \u001b[0mby\u001b[0m \u001b[0;34m=\u001b[0m \u001b[0mby\u001b[0m\u001b[0;34m[\u001b[0m\u001b[0;36m0\u001b[0m\u001b[0;34m]\u001b[0m\u001b[0;34m\u001b[0m\u001b[0;34m\u001b[0m\u001b[0m\n\u001b[0;32m-> 4993\u001b[0;31m             \u001b[0mk\u001b[0m \u001b[0;34m=\u001b[0m \u001b[0mself\u001b[0m\u001b[0;34m.\u001b[0m\u001b[0m_get_label_or_level_values\u001b[0m\u001b[0;34m(\u001b[0m\u001b[0mby\u001b[0m\u001b[0;34m,\u001b[0m \u001b[0maxis\u001b[0m\u001b[0;34m=\u001b[0m\u001b[0maxis\u001b[0m\u001b[0;34m)\u001b[0m\u001b[0;34m\u001b[0m\u001b[0;34m\u001b[0m\u001b[0m\n\u001b[0m\u001b[1;32m   4994\u001b[0m \u001b[0;34m\u001b[0m\u001b[0m\n\u001b[1;32m   4995\u001b[0m             \u001b[0;32mif\u001b[0m \u001b[0misinstance\u001b[0m\u001b[0;34m(\u001b[0m\u001b[0mascending\u001b[0m\u001b[0;34m,\u001b[0m \u001b[0;34m(\u001b[0m\u001b[0mtuple\u001b[0m\u001b[0;34m,\u001b[0m \u001b[0mlist\u001b[0m\u001b[0;34m)\u001b[0m\u001b[0;34m)\u001b[0m\u001b[0;34m:\u001b[0m\u001b[0;34m\u001b[0m\u001b[0;34m\u001b[0m\u001b[0m\n",
      "\u001b[0;32m//anaconda3/lib/python3.7/site-packages/pandas/core/generic.py\u001b[0m in \u001b[0;36m_get_label_or_level_values\u001b[0;34m(self, key, axis)\u001b[0m\n\u001b[1;32m   1772\u001b[0m             \u001b[0mvalues\u001b[0m \u001b[0;34m=\u001b[0m \u001b[0mself\u001b[0m\u001b[0;34m.\u001b[0m\u001b[0maxes\u001b[0m\u001b[0;34m[\u001b[0m\u001b[0maxis\u001b[0m\u001b[0;34m]\u001b[0m\u001b[0;34m.\u001b[0m\u001b[0mget_level_values\u001b[0m\u001b[0;34m(\u001b[0m\u001b[0mkey\u001b[0m\u001b[0;34m)\u001b[0m\u001b[0;34m.\u001b[0m\u001b[0m_values\u001b[0m\u001b[0;34m\u001b[0m\u001b[0;34m\u001b[0m\u001b[0m\n\u001b[1;32m   1773\u001b[0m         \u001b[0;32melse\u001b[0m\u001b[0;34m:\u001b[0m\u001b[0;34m\u001b[0m\u001b[0;34m\u001b[0m\u001b[0m\n\u001b[0;32m-> 1774\u001b[0;31m             \u001b[0;32mraise\u001b[0m \u001b[0mKeyError\u001b[0m\u001b[0;34m(\u001b[0m\u001b[0mkey\u001b[0m\u001b[0;34m)\u001b[0m\u001b[0;34m\u001b[0m\u001b[0;34m\u001b[0m\u001b[0m\n\u001b[0m\u001b[1;32m   1775\u001b[0m \u001b[0;34m\u001b[0m\u001b[0m\n\u001b[1;32m   1776\u001b[0m         \u001b[0;31m# Check for duplicates\u001b[0m\u001b[0;34m\u001b[0m\u001b[0;34m\u001b[0m\u001b[0;34m\u001b[0m\u001b[0m\n",
      "\u001b[0;31mKeyError\u001b[0m: 'importance'"
     ]
    },
    {
     "data": {
      "text/plain": [
       "<Figure size 1152x648 with 0 Axes>"
      ]
     },
     "metadata": {},
     "output_type": "display_data"
    }
   ],
   "source": [
    "plt.figure(figsize=(16,9))\n",
    "temp = feat_importance.sort_values('importance', ascending=False).head(20)\n",
    "plt.barh(temp.index,temp['importance'])\n",
    "plt.title('Top 20 Features', fontsize=30)\n",
    "plt.xlabel('Amount of information gained')\n",
    "plt.ylabel('Feature', fontsize=20);"
   ]
  },
  {
   "cell_type": "code",
   "execution_count": 48,
   "metadata": {},
   "outputs": [
    {
     "data": {
      "text/plain": [
       "1    0.500835\n",
       "0    0.499165\n",
       "Name: nosleep, dtype: float64"
      ]
     },
     "execution_count": 48,
     "metadata": {},
     "output_type": "execute_result"
    }
   ],
   "source": [
    "y_test.value_counts(normalize=True)"
   ]
  },
  {
   "cell_type": "markdown",
   "metadata": {},
   "source": [
    "# ***** Best Model ***** \n"
   ]
  },
  {
   "cell_type": "code",
   "execution_count": 49,
   "metadata": {
    "collapsed": true
   },
   "outputs": [
    {
     "data": {
      "text/plain": [
       "GridSearchCV(cv=3, error_score='raise-deprecating',\n",
       "             estimator=Pipeline(memory=None,\n",
       "                                steps=[('cvec',\n",
       "                                        CountVectorizer(analyzer='word',\n",
       "                                                        binary=False,\n",
       "                                                        decode_error='strict',\n",
       "                                                        dtype=<class 'numpy.int64'>,\n",
       "                                                        encoding='utf-8',\n",
       "                                                        input='content',\n",
       "                                                        lowercase=True,\n",
       "                                                        max_df=1.0,\n",
       "                                                        max_features=None,\n",
       "                                                        min_df=1,\n",
       "                                                        ngram_range=(1, 1),\n",
       "                                                        preprocessor=None,\n",
       "                                                        stop_words=None,\n",
       "                                                        strip_accents=None,\n",
       "                                                        tok...\n",
       "                                                           l1_ratio=None,\n",
       "                                                           max_iter=100,\n",
       "                                                           multi_class='warn',\n",
       "                                                           n_jobs=None,\n",
       "                                                           penalty='l2',\n",
       "                                                           random_state=None,\n",
       "                                                           solver='warn',\n",
       "                                                           tol=0.0001,\n",
       "                                                           verbose=0,\n",
       "                                                           warm_start=False))],\n",
       "                                verbose=False),\n",
       "             iid='warn', n_jobs=None,\n",
       "             param_grid={'cvec__max_features': [2500, 3000, 3500],\n",
       "                         'cvec__ngram_range': [(1, 1), (1, 2)]},\n",
       "             pre_dispatch='2*n_jobs', refit=True, return_train_score=False,\n",
       "             scoring=None, verbose=0)"
      ]
     },
     "execution_count": 49,
     "metadata": {},
     "output_type": "execute_result"
    }
   ],
   "source": [
    "from sklearn.pipeline import Pipeline\n",
    "\n",
    "\n",
    "# Redefine training and testing sets.\n",
    "X_train, X_test, y_train, y_test = train_test_split(X,\n",
    "                                                    y,\n",
    "                                                    test_size=0.33,\n",
    "                                                    stratify=y,\n",
    "                                                    random_state=66)\n",
    "\n",
    "# We need to calculate baseline accuracy in order to tell if our model is outperforming the null model (predicting the majority class).\n",
    "\n",
    "y_test.value_counts(normalize=True)\n",
    "\n",
    "pipe = Pipeline([\n",
    "    ('cvec', CountVectorizer()),\n",
    "    ('lr', LogisticRegression())\n",
    "])\n",
    "\n",
    "pipe_params = {\n",
    "    'cvec__max_features' : [2500, 3000, 3500], \n",
    "    'cvec__ngram_range': [(1,1), (1,2)]\n",
    "}\n",
    "\n",
    "#instantiate gridsearch\n",
    "gs = GridSearchCV(pipe, # what object are we optimizing?\n",
    "                  pipe_params, # what parameters values are we searching?\n",
    "                  cv=3) # 3-fold cross-validation.\n",
    "\n",
    "\n",
    "\n",
    "\n",
    "\n",
    "# Fit GridSearch to training data.\n",
    "gs.fit(X_train['text'],y_train)\n"
   ]
  },
  {
   "cell_type": "code",
   "execution_count": 50,
   "metadata": {},
   "outputs": [
    {
     "data": {
      "text/plain": [
       "{'cvec__max_features': 2500, 'cvec__ngram_range': (1, 2)}"
      ]
     },
     "execution_count": 50,
     "metadata": {},
     "output_type": "execute_result"
    }
   ],
   "source": [
    "gs.best_params_"
   ]
  },
  {
   "cell_type": "code",
   "execution_count": 51,
   "metadata": {},
   "outputs": [
    {
     "name": "stdout",
     "output_type": "stream",
     "text": [
      "0.9820493642483171\n"
     ]
    }
   ],
   "source": [
    "# What's the best score?\n",
    "print(gs.best_score_)"
   ]
  },
  {
   "cell_type": "code",
   "execution_count": 52,
   "metadata": {},
   "outputs": [],
   "source": [
    "# Save best model as gs_model.\n",
    "\n",
    "gs_model = gs.best_estimator_\n",
    "\n",
    "\n",
    "# Score model on training set.\n",
    "gs_model.score(X_train['text'], y_train)\n"
   ]
  },
  {
   "cell_type": "code",
   "execution_count": 138,
   "metadata": {},
   "outputs": [
    {
     "data": {
      "text/plain": [
       "1.0"
      ]
     },
     "execution_count": 138,
     "metadata": {},
     "output_type": "execute_result"
    }
   ],
   "source": [
    "gs_model.score(X_train['text'],y_train)"
   ]
  },
  {
   "cell_type": "code",
   "execution_count": 54,
   "metadata": {
    "scrolled": true
   },
   "outputs": [
    {
     "data": {
      "text/plain": [
       "0.9817905918057663"
      ]
     },
     "execution_count": 54,
     "metadata": {},
     "output_type": "execute_result"
    }
   ],
   "source": [
    "# Score model on testing set.\n",
    "gs_model.score(X_test['text'], y_test)"
   ]
  },
  {
   "cell_type": "code",
   "execution_count": null,
   "metadata": {},
   "outputs": [],
   "source": []
  },
  {
   "cell_type": "code",
   "execution_count": 77,
   "metadata": {},
   "outputs": [],
   "source": [
    "best_cv = CountVectorizer(max_features= 2500, ngram_range=(1, 2))"
   ]
  },
  {
   "cell_type": "code",
   "execution_count": 80,
   "metadata": {},
   "outputs": [
    {
     "data": {
      "text/plain": [
       "0"
      ]
     },
     "execution_count": 80,
     "metadata": {},
     "output_type": "execute_result"
    }
   ],
   "source": [
    "train_raw = best_cv.fit_transform(X_train['text'])\n",
    "train_df = pd.SparseDataFrame(train_raw, columns=best_cv.get_feature_names())\n",
    "train_df.fillna(0,inplace=True)\n",
    "train_df.isnull().sum().sum()"
   ]
  },
  {
   "cell_type": "code",
   "execution_count": 81,
   "metadata": {
    "scrolled": true
   },
   "outputs": [
    {
     "data": {
      "text/html": [
       "<div>\n",
       "<style scoped>\n",
       "    .dataframe tbody tr th:only-of-type {\n",
       "        vertical-align: middle;\n",
       "    }\n",
       "\n",
       "    .dataframe tbody tr th {\n",
       "        vertical-align: top;\n",
       "    }\n",
       "\n",
       "    .dataframe thead th {\n",
       "        text-align: right;\n",
       "    }\n",
       "</style>\n",
       "<table border=\"1\" class=\"dataframe\">\n",
       "  <thead>\n",
       "    <tr style=\"text-align: right;\">\n",
       "      <th></th>\n",
       "      <th>00</th>\n",
       "      <th>000</th>\n",
       "      <th>10</th>\n",
       "      <th>100</th>\n",
       "      <th>11</th>\n",
       "      <th>12</th>\n",
       "      <th>13</th>\n",
       "      <th>14</th>\n",
       "      <th>15</th>\n",
       "      <th>16</th>\n",
       "      <th>...</th>\n",
       "      <th>you the</th>\n",
       "      <th>you think</th>\n",
       "      <th>you to</th>\n",
       "      <th>you ve</th>\n",
       "      <th>you want</th>\n",
       "      <th>you were</th>\n",
       "      <th>you will</th>\n",
       "      <th>young</th>\n",
       "      <th>your</th>\n",
       "      <th>yourself</th>\n",
       "    </tr>\n",
       "  </thead>\n",
       "  <tbody>\n",
       "    <tr>\n",
       "      <td>0</td>\n",
       "      <td>0</td>\n",
       "      <td>0</td>\n",
       "      <td>0</td>\n",
       "      <td>0</td>\n",
       "      <td>0</td>\n",
       "      <td>0</td>\n",
       "      <td>0</td>\n",
       "      <td>0</td>\n",
       "      <td>0</td>\n",
       "      <td>0</td>\n",
       "      <td>...</td>\n",
       "      <td>0</td>\n",
       "      <td>0</td>\n",
       "      <td>0</td>\n",
       "      <td>0</td>\n",
       "      <td>0</td>\n",
       "      <td>0</td>\n",
       "      <td>0</td>\n",
       "      <td>0</td>\n",
       "      <td>0</td>\n",
       "      <td>0</td>\n",
       "    </tr>\n",
       "    <tr>\n",
       "      <td>1</td>\n",
       "      <td>0</td>\n",
       "      <td>0</td>\n",
       "      <td>0</td>\n",
       "      <td>0</td>\n",
       "      <td>2</td>\n",
       "      <td>0</td>\n",
       "      <td>0</td>\n",
       "      <td>0</td>\n",
       "      <td>0</td>\n",
       "      <td>0</td>\n",
       "      <td>...</td>\n",
       "      <td>0</td>\n",
       "      <td>0</td>\n",
       "      <td>0</td>\n",
       "      <td>0</td>\n",
       "      <td>0</td>\n",
       "      <td>0</td>\n",
       "      <td>0</td>\n",
       "      <td>0</td>\n",
       "      <td>0</td>\n",
       "      <td>0</td>\n",
       "    </tr>\n",
       "    <tr>\n",
       "      <td>2</td>\n",
       "      <td>0</td>\n",
       "      <td>0</td>\n",
       "      <td>0</td>\n",
       "      <td>0</td>\n",
       "      <td>0</td>\n",
       "      <td>1</td>\n",
       "      <td>0</td>\n",
       "      <td>0</td>\n",
       "      <td>0</td>\n",
       "      <td>0</td>\n",
       "      <td>...</td>\n",
       "      <td>0</td>\n",
       "      <td>0</td>\n",
       "      <td>0</td>\n",
       "      <td>0</td>\n",
       "      <td>0</td>\n",
       "      <td>0</td>\n",
       "      <td>0</td>\n",
       "      <td>0</td>\n",
       "      <td>2</td>\n",
       "      <td>0</td>\n",
       "    </tr>\n",
       "    <tr>\n",
       "      <td>3</td>\n",
       "      <td>0</td>\n",
       "      <td>0</td>\n",
       "      <td>0</td>\n",
       "      <td>0</td>\n",
       "      <td>0</td>\n",
       "      <td>0</td>\n",
       "      <td>0</td>\n",
       "      <td>0</td>\n",
       "      <td>0</td>\n",
       "      <td>0</td>\n",
       "      <td>...</td>\n",
       "      <td>0</td>\n",
       "      <td>0</td>\n",
       "      <td>0</td>\n",
       "      <td>0</td>\n",
       "      <td>0</td>\n",
       "      <td>0</td>\n",
       "      <td>0</td>\n",
       "      <td>0</td>\n",
       "      <td>3</td>\n",
       "      <td>0</td>\n",
       "    </tr>\n",
       "    <tr>\n",
       "      <td>4</td>\n",
       "      <td>0</td>\n",
       "      <td>0</td>\n",
       "      <td>0</td>\n",
       "      <td>0</td>\n",
       "      <td>0</td>\n",
       "      <td>0</td>\n",
       "      <td>0</td>\n",
       "      <td>0</td>\n",
       "      <td>0</td>\n",
       "      <td>0</td>\n",
       "      <td>...</td>\n",
       "      <td>0</td>\n",
       "      <td>0</td>\n",
       "      <td>0</td>\n",
       "      <td>0</td>\n",
       "      <td>0</td>\n",
       "      <td>0</td>\n",
       "      <td>0</td>\n",
       "      <td>0</td>\n",
       "      <td>1</td>\n",
       "      <td>0</td>\n",
       "    </tr>\n",
       "  </tbody>\n",
       "</table>\n",
       "<p>5 rows × 2500 columns</p>\n",
       "</div>"
      ],
      "text/plain": [
       "   00  000  10  100  11  12  13  14  15  16  ...  you the  you think  you to  \\\n",
       "0   0    0   0    0   0   0   0   0   0   0  ...        0          0       0   \n",
       "1   0    0   0    0   2   0   0   0   0   0  ...        0          0       0   \n",
       "2   0    0   0    0   0   1   0   0   0   0  ...        0          0       0   \n",
       "3   0    0   0    0   0   0   0   0   0   0  ...        0          0       0   \n",
       "4   0    0   0    0   0   0   0   0   0   0  ...        0          0       0   \n",
       "\n",
       "   you ve  you want  you were  you will  young  your  yourself  \n",
       "0       0         0         0         0      0     0         0  \n",
       "1       0         0         0         0      0     0         0  \n",
       "2       0         0         0         0      0     2         0  \n",
       "3       0         0         0         0      0     3         0  \n",
       "4       0         0         0         0      0     1         0  \n",
       "\n",
       "[5 rows x 2500 columns]"
      ]
     },
     "execution_count": 81,
     "metadata": {},
     "output_type": "execute_result"
    }
   ],
   "source": [
    "train_df.head()"
   ]
  },
  {
   "cell_type": "code",
   "execution_count": 84,
   "metadata": {},
   "outputs": [
    {
     "data": {
      "text/plain": [
       "Pipeline(memory=None,\n",
       "         steps=[('cvec',\n",
       "                 CountVectorizer(analyzer='word', binary=False,\n",
       "                                 decode_error='strict',\n",
       "                                 dtype=<class 'numpy.int64'>, encoding='utf-8',\n",
       "                                 input='content', lowercase=True, max_df=1.0,\n",
       "                                 max_features=2500, min_df=1,\n",
       "                                 ngram_range=(1, 2), preprocessor=None,\n",
       "                                 stop_words=None, strip_accents=None,\n",
       "                                 token_pattern='(?u)\\\\b\\\\w\\\\w+\\\\b',\n",
       "                                 tokenizer=None, vocabulary=None)),\n",
       "                ('lr',\n",
       "                 LogisticRegression(C=1.0, class_weight=None, dual=False,\n",
       "                                    fit_intercept=True, intercept_scaling=1,\n",
       "                                    l1_ratio=None, max_iter=100,\n",
       "                                    multi_class='warn', n_jobs=None,\n",
       "                                    penalty='l2', random_state=None,\n",
       "                                    solver='warn', tol=0.0001, verbose=0,\n",
       "                                    warm_start=False))],\n",
       "         verbose=False)"
      ]
     },
     "execution_count": 84,
     "metadata": {},
     "output_type": "execute_result"
    }
   ],
   "source": [
    "gs_model"
   ]
  },
  {
   "cell_type": "code",
   "execution_count": 85,
   "metadata": {},
   "outputs": [],
   "source": [
    "lr = LogisticRegression(C=1.0, class_weight=None, dual=False,\n",
    "                                    fit_intercept=True, intercept_scaling=1,\n",
    "                                    l1_ratio=None, max_iter=100,\n",
    "                                    multi_class='warn', n_jobs=None,\n",
    "                                    penalty='l2', random_state=None,\n",
    "                                    solver='warn', tol=0.0001, verbose=0,\n",
    "                                    warm_start=False)"
   ]
  },
  {
   "cell_type": "code",
   "execution_count": 90,
   "metadata": {},
   "outputs": [
    {
     "data": {
      "text/plain": [
       "LogisticRegression(C=1.0, class_weight=None, dual=False, fit_intercept=True,\n",
       "                   intercept_scaling=1, l1_ratio=None, max_iter=100,\n",
       "                   multi_class='warn', n_jobs=None, penalty='l2',\n",
       "                   random_state=None, solver='warn', tol=0.0001, verbose=0,\n",
       "                   warm_start=False)"
      ]
     },
     "execution_count": 90,
     "metadata": {},
     "output_type": "execute_result"
    }
   ],
   "source": [
    "lr.fit(train_df, y_train)"
   ]
  },
  {
   "cell_type": "code",
   "execution_count": 91,
   "metadata": {},
   "outputs": [],
   "source": [
    "feat_importance = pd.DataFrame(np.transpose(lr.coef_), train_df.columns, columns=['nosleep'])"
   ]
  },
  {
   "cell_type": "code",
   "execution_count": 108,
   "metadata": {
    "scrolled": false
   },
   "outputs": [],
   "source": [
    "unresolved_importance = feat_importance.sort_values(by='nosleep').head(20) #feature importance by percentage"
   ]
  },
  {
   "cell_type": "code",
   "execution_count": 109,
   "metadata": {},
   "outputs": [],
   "source": [
    "nosleep_importance = feat_importance.sort_values(by='nosleep', ascending=False).head(20) #48%"
   ]
  },
  {
   "cell_type": "code",
   "execution_count": 137,
   "metadata": {
    "scrolled": false
   },
   "outputs": [
    {
     "data": {
      "text/plain": [
       "<matplotlib.legend.Legend at 0x1a40d264e0>"
      ]
     },
     "execution_count": 137,
     "metadata": {},
     "output_type": "execute_result"
    },
    {
     "data": {
      "image/png": "[encoded data removed]",
      "text/plain": [
       "<Figure size 1080x432 with 2 Axes>"
      ]
     },
     "metadata": {},
     "output_type": "display_data"
    }
   ],
   "source": [
    "fig, (ax1, ax2) = plt.subplots(ncols=2, figsize=(15, 6))\n",
    "\n",
    "\n",
    "unresolved_importance.plot.barh(ax=ax1, title='r/UnresolvedMysteries', color='orange')\n",
    "\n",
    "nosleep_importance.plot.barh(ax=ax2, title='r/nosleep', color='black');\n",
    "ax1.legend(['Word Importance'])\n",
    "ax2.legend(['Word Importance'])"
   ]
  },
  {
   "cell_type": "code",
   "execution_count": null,
   "metadata": {},
   "outputs": [],
   "source": []
  },
  {
   "cell_type": "code",
   "execution_count": 100,
   "metadata": {
    "scrolled": true
   },
   "outputs": [],
   "source": [
    "from sklearn.metrics import confusion_matrix"
   ]
  },
  {
   "cell_type": "code",
   "execution_count": 101,
   "metadata": {},
   "outputs": [
    {
     "data": {
      "text/plain": [
       "array([[296,   3],\n",
       "       [  9, 291]])"
      ]
     },
     "execution_count": 101,
     "metadata": {},
     "output_type": "execute_result"
    }
   ],
   "source": [
    "preds = gs_model.predict(X_test['text'])\n",
    "\n",
    "confusion_matrix(y_test, preds)"
   ]
  },
  {
   "cell_type": "code",
   "execution_count": 102,
   "metadata": {},
   "outputs": [],
   "source": [
    "tn, fp, fn, tp = confusion_matrix(y_test, preds).ravel()"
   ]
  },
  {
   "cell_type": "code",
   "execution_count": 69,
   "metadata": {},
   "outputs": [
    {
     "data": {
      "text/plain": [
       "326"
      ]
     },
     "execution_count": 69,
     "metadata": {},
     "output_type": "execute_result"
    }
   ],
   "source": [
    "tn\n",
    "#actual unresolved predicted unresolved"
   ]
  },
  {
   "cell_type": "code",
   "execution_count": 70,
   "metadata": {},
   "outputs": [
    {
     "data": {
      "text/plain": [
       "3"
      ]
     },
     "execution_count": 70,
     "metadata": {},
     "output_type": "execute_result"
    }
   ],
   "source": [
    "fp\n",
    "#actual unresolved predicted no sleep"
   ]
  },
  {
   "cell_type": "code",
   "execution_count": 71,
   "metadata": {},
   "outputs": [
    {
     "data": {
      "text/plain": [
       "9"
      ]
     },
     "execution_count": 71,
     "metadata": {},
     "output_type": "execute_result"
    }
   ],
   "source": [
    "fn\n",
    "#actual nosleep preidcted unresolved"
   ]
  },
  {
   "cell_type": "code",
   "execution_count": 72,
   "metadata": {},
   "outputs": [
    {
     "data": {
      "text/plain": [
       "321"
      ]
     },
     "execution_count": 72,
     "metadata": {},
     "output_type": "execute_result"
    }
   ],
   "source": [
    "tp\n",
    "#Actual nosleep predicted no sleep"
   ]
  },
  {
   "cell_type": "code",
   "execution_count": 59,
   "metadata": {},
   "outputs": [],
   "source": [
    "data = [y_test, preds]\n",
    "\n",
    "new_df = pd.DataFrame(y_test)\n",
    "new_df['predictions'] = preds\n"
   ]
  },
  {
   "cell_type": "code",
   "execution_count": 62,
   "metadata": {},
   "outputs": [],
   "source": [
    "new_df['diff'] = new_df.apply(lambda x: 0 if x['predictions'] == x['nosleep'] else 1, axis=1)"
   ]
  },
  {
   "cell_type": "code",
   "execution_count": 63,
   "metadata": {
    "collapsed": true
   },
   "outputs": [
    {
     "data": {
      "text/html": [
       "<div>\n",
       "<style scoped>\n",
       "    .dataframe tbody tr th:only-of-type {\n",
       "        vertical-align: middle;\n",
       "    }\n",
       "\n",
       "    .dataframe tbody tr th {\n",
       "        vertical-align: top;\n",
       "    }\n",
       "\n",
       "    .dataframe thead th {\n",
       "        text-align: right;\n",
       "    }\n",
       "</style>\n",
       "<table border=\"1\" class=\"dataframe\">\n",
       "  <thead>\n",
       "    <tr style=\"text-align: right;\">\n",
       "      <th></th>\n",
       "      <th>nosleep</th>\n",
       "      <th>predictions</th>\n",
       "      <th>diff</th>\n",
       "    </tr>\n",
       "  </thead>\n",
       "  <tbody>\n",
       "    <tr>\n",
       "      <td>699</td>\n",
       "      <td>1</td>\n",
       "      <td>0</td>\n",
       "      <td>1</td>\n",
       "    </tr>\n",
       "    <tr>\n",
       "      <td>1084</td>\n",
       "      <td>0</td>\n",
       "      <td>1</td>\n",
       "      <td>1</td>\n",
       "    </tr>\n",
       "    <tr>\n",
       "      <td>703</td>\n",
       "      <td>1</td>\n",
       "      <td>0</td>\n",
       "      <td>1</td>\n",
       "    </tr>\n",
       "    <tr>\n",
       "      <td>170</td>\n",
       "      <td>1</td>\n",
       "      <td>0</td>\n",
       "      <td>1</td>\n",
       "    </tr>\n",
       "    <tr>\n",
       "      <td>620</td>\n",
       "      <td>1</td>\n",
       "      <td>0</td>\n",
       "      <td>1</td>\n",
       "    </tr>\n",
       "    <tr>\n",
       "      <td>1345</td>\n",
       "      <td>0</td>\n",
       "      <td>1</td>\n",
       "      <td>1</td>\n",
       "    </tr>\n",
       "    <tr>\n",
       "      <td>958</td>\n",
       "      <td>1</td>\n",
       "      <td>0</td>\n",
       "      <td>1</td>\n",
       "    </tr>\n",
       "    <tr>\n",
       "      <td>229</td>\n",
       "      <td>1</td>\n",
       "      <td>0</td>\n",
       "      <td>1</td>\n",
       "    </tr>\n",
       "    <tr>\n",
       "      <td>1150</td>\n",
       "      <td>0</td>\n",
       "      <td>1</td>\n",
       "      <td>1</td>\n",
       "    </tr>\n",
       "    <tr>\n",
       "      <td>906</td>\n",
       "      <td>1</td>\n",
       "      <td>0</td>\n",
       "      <td>1</td>\n",
       "    </tr>\n",
       "    <tr>\n",
       "      <td>470</td>\n",
       "      <td>1</td>\n",
       "      <td>0</td>\n",
       "      <td>1</td>\n",
       "    </tr>\n",
       "    <tr>\n",
       "      <td>708</td>\n",
       "      <td>1</td>\n",
       "      <td>0</td>\n",
       "      <td>1</td>\n",
       "    </tr>\n",
       "    <tr>\n",
       "      <td>644</td>\n",
       "      <td>1</td>\n",
       "      <td>1</td>\n",
       "      <td>0</td>\n",
       "    </tr>\n",
       "    <tr>\n",
       "      <td>52</td>\n",
       "      <td>1</td>\n",
       "      <td>1</td>\n",
       "      <td>0</td>\n",
       "    </tr>\n",
       "    <tr>\n",
       "      <td>777</td>\n",
       "      <td>1</td>\n",
       "      <td>1</td>\n",
       "      <td>0</td>\n",
       "    </tr>\n",
       "    <tr>\n",
       "      <td>504</td>\n",
       "      <td>1</td>\n",
       "      <td>1</td>\n",
       "      <td>0</td>\n",
       "    </tr>\n",
       "    <tr>\n",
       "      <td>115</td>\n",
       "      <td>1</td>\n",
       "      <td>1</td>\n",
       "      <td>0</td>\n",
       "    </tr>\n",
       "    <tr>\n",
       "      <td>334</td>\n",
       "      <td>1</td>\n",
       "      <td>1</td>\n",
       "      <td>0</td>\n",
       "    </tr>\n",
       "    <tr>\n",
       "      <td>1001</td>\n",
       "      <td>0</td>\n",
       "      <td>0</td>\n",
       "      <td>0</td>\n",
       "    </tr>\n",
       "    <tr>\n",
       "      <td>1847</td>\n",
       "      <td>0</td>\n",
       "      <td>0</td>\n",
       "      <td>0</td>\n",
       "    </tr>\n",
       "  </tbody>\n",
       "</table>\n",
       "</div>"
      ],
      "text/plain": [
       "      nosleep  predictions  diff\n",
       "699         1            0     1\n",
       "1084        0            1     1\n",
       "703         1            0     1\n",
       "170         1            0     1\n",
       "620         1            0     1\n",
       "1345        0            1     1\n",
       "958         1            0     1\n",
       "229         1            0     1\n",
       "1150        0            1     1\n",
       "906         1            0     1\n",
       "470         1            0     1\n",
       "708         1            0     1\n",
       "644         1            1     0\n",
       "52          1            1     0\n",
       "777         1            1     0\n",
       "504         1            1     0\n",
       "115         1            1     0\n",
       "334         1            1     0\n",
       "1001        0            0     0\n",
       "1847        0            0     0"
      ]
     },
     "execution_count": 63,
     "metadata": {},
     "output_type": "execute_result"
    }
   ],
   "source": [
    "new_df.sort_values(by='diff',ascending=False).head(20)"
   ]
  },
  {
   "cell_type": "code",
   "execution_count": 64,
   "metadata": {
    "scrolled": true
   },
   "outputs": [
    {
     "data": {
      "text/plain": [
       "\"My sister dropped off my niece last night. I don't think she's coming back.  To clarify, I haven’t seen my younger sister Mara in a little over five years. She was a little over eighteen years old, a few months pregnant, and was determined to keep her baby. I told her exactly what I thought- I thought she was a goddamn idiot and that she either needed to give it up for adoption or I’d drive her to the abortion clinic myself.\\n\\nWe had a screaming fight before she stormed out, saying she was going to stay with her baby’s daddy and that they’d be a happy family together.\\n\\nLike I said, it’s been five years. Five years and a lot changed. I tried contacting her probably a dozen times, but when she sent me a picture flipping up her middle finger, I got the message. I gave up. If she wanted to live like that, fine by me. She ended up blocking me on Facebook, she cut off both our parents, and I figured I’d never see her again. \\xa0\\n\\nWhen I heard the doorbell I thought that one of my friends stopped by to return a book they’d borrowed a few weeks back, they’d told me they were almost done and that they couldn’t put it down so I expected them to give it back any day now.\\n\\nI opened the door and there she was. I didn’t even recognize her at first. She’d gotten a lot thinner and had dyed her hair black, but I recognized that cheap tattoo on her hand and the dimple in her right cheek. It was my baby sister.\\n\\nAnd clutching her hand was a little girl with rosy cheeks, blonde curls, and my sister’s green eyes.\\n\\n“Thomas,” Her face broke into a tired smile and she pulled me into a hug. I couldn’t respond. I just froze. She stepped back and smiled even brighter. “Ariel, this is your Uncle Thomas.”\\n\\nThe little girl waved and smiled. “It’s a pleasure to meet you, Uncle Thomas,” She said in a chipper tone. \\xa0\\n\\nAriel. Mara’s favorite Disney Princess.\\n\\nI cleared my throat. “H… hi, Ariel.” I looked up at Mara. “Do… do you want to come inside?”\\n\\n“I’d really love that, actually.” Mara walked inside. “I can’t stay long, but… oh man, when did you get ripped?” Even her laughter sounded tired.\\n\\n“Uh, three years ago, I wanted to get in shape, do you want something?” I didn’t even know what to say at this point, in the light it was clear she’d been through some serious shit.\\n\\nSaying she’d gotten a ‘lot thinner’ is understating it. She looked skeletal, her once vivid eyes were now dull and too large, like they were ready to roll out of her skull. Her fists were all bruised up and she had a black eye that wasn’t quite hidden under thickly applied foundation. \\xa0\\n\\n“I’m fine. Really. It’s just been a bad week.” Mara gently pushed Ariel to the couch. “Sit right there, honey, okay?” \\xa0\\n\\nI’d never seen such a well behaved five year old in my life. Like a prim little angel, Ariel walked over to the couch and sat, her bare feet dangling a few inches above the floor. I turned back to Mara. “What happened? Where’s Bradley?” Just saying the scumbag’s name made me feel nauseated. \\xa0\\n\\nMara’s gaze dropped to the floor. “He didn’t even see Ariel get born,” She grumbled.\\n\\n“Oh shit, I’m so sorry,” I rested a hand on her shoulder.\\n\\nMara jerked away. “It’s fine!” She yelped before coughing a few times. She wrapped her bony arms around herself. “… It’s fine. I… found someone else to stay with… but I can’t… I can’t stay there… right now. Not right now.” \\xa0\\n\\n*Oh god, what have you gotten yourself into, sis?* “Well, you’re welcome here, Mom and Dad really miss you,” I said. \\xa0\\n\\n“Um...” Mara chewed her bottom lip. “… Can you do me a solid? Don’t tell Mom and Dad I was here. Really, it’d be great if you didn’t tell anyone. You work from home, right?”\\n\\n“Most of the time,” I frowned, “Why?”\\n\\n“… Can you please watch Ariel for a day?”\\n\\nI looked at the tiny girl on my couch. My niece. “What will you be doing?”\\n\\n“Don’t ask me that.” Mara shook her head. “Just… don’t leave the house. Don’t let Ariel near the windows.”\\n\\n“Are you in danger?” \\xa0\\n\\n“Just- promise me. Please.”\\n\\nAt this point, I had two theories about why my sister was wigging out- either she had gotten in an abusive relationship and was on the run… or she had completely lost her mind on drugs and was a nutcase. \\xa0\\n\\nEither way, I knew I had to help.\\n\\n“Sure. She can sleep on the couch, right?” I don’t have kids, I know literally nothing about caring for a kid.\\n\\nMara wrapped me in another tight bear hug. “Thank you so much,” She sobbed, nearly crushing my ribs before stepping back. “… I’ll be back tomorrow night, I hope. I love you, Thomas… and I’m sorry. You were right.”\\n\\nWith that, Mara slunk out the door and into the night, like she’d never been there.\\n\\nThis whole time, Ariel sat on the couch, her hands neatly folded on her lap as she kicked her feet back and forth. I coughed a few times before sitting next to her. “Sooo… when’s bed time?” I asked. \\xa0\\n\\nAgain- I don’t know how to deal with kids.\\n\\nAriel giggled, and I saw more bits of my sister in her- the smile, the way her nose wrinkled when she was amused. “You’re funny, Uncle Thomas. Can I color?” She asked.\\n\\n“I might have some colored pencils and paper somewhere…” Listen, I love that they make coloring books for adults nowadays, and I am completely in on the fad. So in about ten minutes, I had Ariel sitting at my dining room table with some paper and watched as her tiny fist clutched onto a bright pink pencil as she drew a shape that could’ve been a horse or an airplane.\\n\\nI tried to fill the silence with conversation. That went as well as you’d expect.\\n\\n“So, what’s your favorite color?”\\n\\n“Pink.”\\n\\n“Do you go to kindergarten yet?”\\n\\n“I stay with Mommy. She’s taught me my ABC’s.”\\n\\n“Do you have a pet?” \\xa0\\n\\n“We’re not allowed to.” \\xa0\\n\\n“Um, do you like snakes? I have a snake.”\\n\\nThat had her pause. She stopped her scribbles and looked up, her eyes wide. “Wow! You have a pet snake?!” She said with a gasp, her face lit up with delight.\\n\\n“Yeah, his name’s Popcorn,” Finally, something I could distract her with, “Come on, let’s go see him. He’s in my room.”\\n\\nPopcorn is a Corn Snake I adopted about a year back, a friend had to move and couldn’t take him with. Since then, he’s been my little buddy. Ariel squealed as I flicked on the light and ran to the other cage in my room. “Mice!” She pointed at the cage of small white mice wriggling around.\\n\\n“Yeah, those are my other buddies,” I laughed as I walked up to the cage. “Come here, Popcorn...” I carefully lifted him out.\\n\\n“Are we gonna feed him?”\\n\\nI turned around to see that Ariel had one of my mice curled up in her hands. “Oh, honey, no,” I laughed, the mouse in question seemed content and it wasn’t like she was dangling it by its tail, “Popcorn already ate recently and uh, those aren’t the mice he eats. Can you put him back in his cage now?”\\n\\nAriel shrugged and gently placed the mouse back inside the cage. “Can I see Popcorn now?” She extended her arm expectantly.\\n\\n“He probably won’t want to crawl on your arm, sweetie.” I knelt down and carefully lifted Popcorn forward. “He’s a bit shy, and-”\\n\\nPopcorn naturally slid from my hand onto Ariel, twisting around her arm and I swear he never looked more content. My jaw dropped. “Are you a freaking Parseltongue or something?” I said.\\n\\n“I don’t know what that means. But snakes like me.” Ariel leaned her face forward, slitting her eyes and staring at Popcorn, who flicked his tongue out a few times before slithering forward, crawling around her neck and hanging loosely there. “Father says it’s because they know I’m their friend.”\\n\\n“Father? I thought your mom said your dad… \\xa0wasn’t around.” \\xa0\\n\\nAriel looked puzzled before she bust out laughing. “Oh, no no no! Father isn’t my daddy, I don’t have a daddy. Father is all of our father.”\\n\\nI felt an unpleasant chill go down my spine. “… What… is this Father like?” I asked carefully.\\n\\n“He’s very kind!” Ariel grinned and nodded her head. “He reads from the Book every morning and makes sure that we all know right from wrong. One of my friends, her daddy is the Father but he’s not my daddy. He wants us all to stick together. Last week, he chose me for something really important!”\\n\\n“What was that?” I had to know. What the hell had Mara gotten into?\\n\\nAriel glanced out the window. “… Well, I’m not supposed to say, but…” Ariel giggled and clapped her hands. “I’m going to be the Daughter!”\\n\\nWhat. I had no idea what to say to that. “Really,” I found myself looking out the window as well, almost expecting someone to be there, “And what does that mean?”\\n\\n“I have no idea!” Ariel removed Popcorn from her neck and handed him back to me. “I’m hungry, I’m gonna get something to eat,” She said before running out of the room. \\xa0\\n\\nI settled Popcorn back into his cage and gently ran my finger down his back. “I’m gonna kick Mara’s ass when she gets back,” I grumbled before heading back into the kitchen. \\xa0\\n\\nI saw Ariel peering into the freezer. “Do you want pizza rolls, Ariel?” It might’ve been close to midnight but I had no idea when she’d eaten last. “Or chicken strips?”\\n\\nI heard a crunch and the sound of chewing. “No thank you!” Swallow. “I found something yummy!” Another crunch. \\xa0\\n\\nFrowning, I walked up to Ariel. “Honey, you can’t just eat something frozen...” I turned her around and the words died in my mouth.\\n\\nAriel was clutching my bag of frozen feeder mice in her hands, her mouth smeared with blood. A small frozen tail was sticking out between her lips. She swallowed and it vanished. “They’re a little cold, could you warm them up?” She handed the bag to me.\\n\\n*What the fuck?* “Ariel!” I grabbed a paper towel and wiped off her face. “Jesus Christ, kid, you don’t eat mice!” \\xa0\\n\\n“Why not?” Ariel cocked her head to the side. “Popcorn eats mice.”\\n\\n“Well, you’re not Popcorn, oh fuck, Mara’s gonna kill me…” I groaned and put the feeder mice back on the top shelf, she’d have to dig past the frozen bread to get it. “How about we have some pizza rolls instead?”\\n\\nAriel pouted and crossed her arms. “I don’t want pizza rolls,” She grumbled. “Can I go to bed now?”\\n\\nI ended up just putting Ariel to sleep on the couch. I was done. That was my limit. Children eating fucking frozen mice.\\n\\nI woke up about midnight to see her standing over the mice cage. The lid had been taken off and her head was cocked to the side. I almost sat up and asked what the hell was she doing when she opened her mouth and something long and thin fell out of her mouth, plopping into the floor of the cage. For a second, I thought she had Popcorn in her mouth, but a glance confirmed that Popcorn was chilling in his cage under his lamp.\\n\\nAriel’s tongue slowly felt its way around the cage, slithering about until it touched one of the sleeping mice. I don’t know why they were asleep, they were usually jumping around this time of night. Her tongue slowly wrapped around the mouse and lifted it to her mouth. It hung limply in its grasp until she brought it into her mouth. Then it jerked about and I heard it squeal before she brought her jaws down on it.\\n\\nThat crunch was one of the most horrifying things I’d ever heard. \\xa0\\n\\nHumming pleasantly, Ariel skipped out of the room and back to the couch. In just a few minutes I heard her softly snoring. \\xa0\\n\\nI didn’t get a wink of sleep the rest of the night.\\n\\nAriel’s been a normal kid all day but I can’t shake that image out of my head of her tongue just dragging that mouse to its doom. I counted them to make sure and one was absolutely gone. \\xa0\\n\\nBut what’s worse is that Mara’s not come back. I’ve tried texting her but apparently her phone number belongs to someone else now. And I swear I’ve seen the same car drive past my house five times today.\\n\\nI don’t know what to do.\\n\\nAnd I’m scared of what I’ll see if I wake up tonight and see Ariel again.\""
      ]
     },
     "execution_count": 64,
     "metadata": {},
     "output_type": "execute_result"
    }
   ],
   "source": [
    "X.iloc[472].text"
   ]
  },
  {
   "cell_type": "code",
   "execution_count": 65,
   "metadata": {
    "scrolled": true
   },
   "outputs": [
    {
     "data": {
      "text/plain": [
       "\"I don't think the new mods are working out Removed story\\n\\nexpand all collapse all\\n\\n**[–] subreddit message via sleep [M] sent 1 hour ago**  \\n\\nYour post has been removed from sleep. Stories must be believable within reason. This means that the narrator must be physically and mentally capable of posting, and that the events of the story cannot be proven to be false on a large scale.\\n\\n**[–] to sleep [M] sent 1 hour ago** \\n\\nHi – thanks for the information. Can you explain to me how my story is rule-breaking? The narrator lives, is capable of posting despite the described trauma, and it cannot be disproved by looking outside or reading a newspaper. What element needs to be changed? I’m eager to get it re-approved as soon as possible. Thank you for your assistance in this issue.\\n\\n**[–] subreddit message via sleep [M] sent 1 hour ago** \\n\\nThe story lacks believability because you claim that the intruder climbs through a window on the second floor. This contradicts the fact that you clearly live in a single-story ranch-style home.\\n\\n**[–] to sleep [M] sent 1 hour ago** \\n\\nFunny enough, I actually do live in a single-story ranch-style home. I checked the post pretty thoroughly, though, and cannot find any mention of the house. Am I missing something?\\n\\n**[–] subreddit message via sleep [M] sent 1 hour ago**  \\n\\nYou’re not missing anything. The story gives a description of the house that is easily disprovable. \\n\\n**[–] to sleep [M] sent 1 hour ago** \\n\\nI’m sorry? I think I’m missing something. How is it disprovable?\\n\\n**[–] subreddit message via sleep [M] sent 1 hour ago**  \\n\\nBy looking at it.\\n\\n**[–] to sleep [M] sent 1 hour ago**\\n\\nI’m pretty lost at this point. Are you talking about my actual house? I have to say that this conversation isn’t professional, and I would like to speak with another mod.\\n\\n**[–] subreddit message via sleep [M] sent 1 hour ago**  \\n\\nYou’re not lost. You haven’t moved from in front of your computer for the past three hours. And why would you want to speak with someone so far away?\\n\\n**[–] to sleep [M] sent 1 hour ago** \\n\\nWhat the hell? Of course everyone’s far away. Reddit users are all over the world. You’re officially creeping me out, and I want to end this conversation. Please connect me with a different mod.\\n\\n**[–] subreddit message via sleep [M] sent 58 minutes  ago**  \\n\\nClosing the blinds won’t protect you.\\n\\n**[–] to sleep [M] sent 57 minutes ago** \\n\\nOK, WHAT THE HELL? How did you know that I closed the blinds? This isn’t funny. I’m asking you to leave me alone.\\n\\n**[–] subreddit message via sleep [M] sent 51 minutes ago**  \\n\\nWhy would you suddenly need to be alone after three hours of sharing your home?\\n\\n**[–] to sleep [M] sent 46 minutes ago** \\n\\nJoke’s on you. I’ve been alone since getting home from work. You were making some lucky guesses in the beginning, but you should have quit when you were ahead.\\n\\n**[–] subreddit message via sleep [M] sent 41 minutes ago**  \\n\\nI don’t play guessing games. You weren’t alone.\\n\\n**[–] to sleep [M] sent 38 minutes ago** \\n\\nWas that crash in the hallway because of you? How are you doing this? FUCK YOU. I’m calling the cops.\\n\\n**[–] subreddit message via sleep [M] sent 34 minutes ago**  \\n\\nWhy would you choose to live in a rural area, fifteen minutes from the nearest police station, if you thought the cops were your only protection?\\n\\n**[–] to sleep [M] sent 33 minutes ago** \\n\\nI’m done. I’m fucking done.\\n\\n**[–] subreddit message via sleep [M] sent 30 minutes ago**  \\n\\nYes.\\n\\n**[–] to sleep [M] sent 28 minutes ago** \\n\\nCongratulations, you pounded on three different windows. You think that you’re scaring me?\\n\\n**[–] subreddit message via sleep [M] sent 27 minutes ago**  \\n\\nYes.\\n\\n**[–] to sleep [M] sent 24 minutes ago** \\n\\nI have a shotgun.\\n\\n**[–] subreddit message via sleep [M] sent 22 minutes ago**  \\n\\nI have your shotgun.\\n\\n**[–] to sleep [M] sent 19 minutes ago** \\n\\nOkay. I checked. Yes, my shotgun is gone. I’m being polite. See? No anger. No malice. You win. I am completely fucking petrified. What will it take for you to leave me alone?\\n\\n**[–] subreddit message via sleep [M] sent 13 minutes ago**  \\n\\nJust give up hope.\\n\\n**[–] to sleep [M] sent 1 minute ago** \\n\\nThat’s it. I don’t know what’s happening, or why my cell phone isn’t getting any reception, or why you’re firing my shotgun in the backyard. But I’m going to let everyone know what happened. You might win this one. But people will know. I will send these messages to everyone I can. Fuck you.\\n\\nI will keep updating as long as I’m physically capable.\\n\\n\\n\\n_____________________________\\n\\n[FB]( \\n\\n[BD]( \""
      ]
     },
     "execution_count": 65,
     "metadata": {},
     "output_type": "execute_result"
    }
   ],
   "source": [
    "X.iloc[170].text"
   ]
  },
  {
   "cell_type": "code",
   "execution_count": 66,
   "metadata": {
    "scrolled": true
   },
   "outputs": [
    {
     "data": {
      "text/plain": [
       "\"Are you part of some person's Unresolved Mystery? When I was a senior in high school (Rochester, New York) I skipped school to visit my girlfriend who was home sick.  As this was a high school romance and we were home alone things got naked.\\n\\nHer mom came home, I jumped out the window and started to run the half a mile home... completely naked.  (Mostly through a wooded park but also some back yards)\\n\\nHalfway home, in a wooded backyard I came across a snowmobile with a big red cover (it was late spring at the time).  I wrapped the cover around myself and started to walk the rest of the way home when the owner of the snowmobile walked out of his house and yelled at me to stop.\\n\\nI ran as fast as I could, through a few more backyards and made it home without anyone else seeing me.  \\n\\nThis guy went door to door looking for the naked kid who stole his snow mobile cover.  My parents talked to him that night as he went up and down all the adjacent blocks looking for answers.  He stopped at our house and asked my parents if they saw anything, fearing my girlfriend's parents might find out, they didn't tell him the truth.\\n\\nTo this day I wonder if this guy ever stays up at night wondering what the crap was going on that day.\""
      ]
     },
     "execution_count": 66,
     "metadata": {},
     "output_type": "execute_result"
    }
   ],
   "source": [
    "X.iloc[1345].text"
   ]
  },
  {
   "cell_type": "code",
   "execution_count": 67,
   "metadata": {
    "scrolled": true
   },
   "outputs": [
    {
     "data": {
      "text/plain": [
       "'Brandon Lawson 911 Trancription- I spent 10 hours picking the 911 call apart. He doesn\\'t say \"staper\" and he wasn\\'t alone. Update:  As promised, here\\'s some of the edited audio files!  Thanks for all the positive feedback, this took a ton of work, and now I feel it was definitely worth it!\\n\\n \\n\\n\\nThis is my first write up.  I\\'ve been meaning to listen to the Brandon Lawson 911 audio for a while, and I just happened to be recovering from a minor surgery this week, so I dove into the rabbit hole.  I have a background in audio recording and have some pretty great software, speakers, and headphones to listen with, and I\\'ve spent over 10 hours listening to every syllable and word in this 38 second phone call.  I believe I have it as accurately transcribed as possible.  \\n\\nI am also 99% certain this is not the entire phone call.  I\\'ll write the entire transcription, and then I\\'ll break down each piece.\\n\\nOperator: 911 Emergency...\\n\\nBrandon: Yes, I\\'m in the middle of the field.  We\\'re safe we\\'re just pushing guys over. \\nWe\\'re out here going towards Abiline on both sides. \\nMy truck ran out of gas.  \\nTheres one car here.  A guy  cha....ch... to the woods.\\nPlease hurry.\\n\\nO: Ok, now, run that by me one more..\\n\\nB: (Talking over the operator) They will not talk things over.  I accidentally ran into \\'em.\\n\\nO:  Ohhh you ran into him, ok.\\n\\nUnknown voice: Detective\\n\\nB: Shot the first guy.\\n\\n(Gun shot)\\n\\nO: Do you need an Ambulance?\\n\\nB: Yeah! No, I need the cops.\\n\\nO: OK...  Is anybody hurt?\\n\\nB: (Whispers) Crap\\n\\nO: Hello?.... Hello?...Hello?\\n\\nOk, first I\\'d like to clarify that it took some serious EQ and compression to hear some of these things.  I didn\\'t just listen to the youtube vid a bunch, and in many cases I had to break down every single word.  In an attempt to save time, I\\'m going to give my reasoning, all at once, to believe that: A. This is what he said.  B.  Brandon Lawson was not alone.  C. This is not the entire phone call.\\n\\n\\nThe opening sequence was one of the first flags for me that this is not the entire call, because it just does not make sense unless there is more context to his first line.  I believe what we hear Brandon first say was actually further into the conversation with the operator.  His first word is \"yes\" which is a pretty weird way to start a conversation explaining your life is in danger.  Instead, I think he has already told the operator the name of the road they are on and is answering a question like \"Can you explain where you are right now?\"  Because Brandon\\'s response is \"Yes, I\\'m in the middle of THE field.\"  I spent a considerable amount of time figuring out if he said \"the\" or \"a\" and I firmly believe he said \"the\".  \\n\\nThis is important because I think it shows that they had already established something about a field, and now he can refer to it as THE field.\\n\\nThe second part of the sentence has made me question writing this entire write up, because I\\'m sure I\\'m going to get some huge push back on my translation of the mysterious \"stater, staper\" line.  I have not seen anyone else interpret it this way, but I am VERY confident he says \"We\\'re safe, we\\'re just pushing guys over.\"\\n\\nSo what does it mean, you ask?  I have no idea.  But it\\'s the first \"we\\'re\".  Until the next line.\\n\\n\"We\\'re out here going towards Abilene on both sides.\"  Most people hear this, and I can confirm that there is a t-h at the end of both, and that there is an S at the beginning and end of \"sides\".  I think he is saying that the two of them are on both sides of the road and going the same direction.\\n\\n\"My truck ran out of gas.  There\\'s one car here.\"  That part is easy to tell, but the next is very odd.\\n\\n\"A guy cha..ch... to the woods.\"  This part really stands out to me because when imported into an audio suite where you can \"see\" the sound, the audio fades off immediately and unnaturally after \"CHA\" (sounds like chay) then there is a \"guh\" sound followed by \"de\" (like Tour de France), and then a \"chhhh or shhhh\" sound.  Put it all together and it sounds like chay-ga-dshhh.  \\n\\nMy immediate thought when I got to the wave form of the chay sound, was that it looks and sounds like what happens when you \"fade\" out a sound very quickly in the audio world.  The chay-ga-dshhh sound is then immediately followed by almost perfect silence, as far as this recording goes.  I wanted to say it\\'s \"proof\" that part of the audio was edited, but it may also have been caused by the phone signal quickly dropping out.  I don\\'t know for sure.  \\n\\n\"To the woods.\"  This part is pretty clear to everyone.  This phrase stands out to me because he delivers it much more \"laid back\" than any of his previously rapid words.  He also holds out the \"s\" on woods, giving it a fairly relaxed feel that is immediately followed by:\\n\\n\"Please hurry!\"  Easy to hear and pretty self explanatory.\\n\\nOperator:  \"Ok, now, run that by me one more...\" and then Brandon starts speaking at the same time.  It took some pretty intense eq\\'ing and listening, but I fairly clearly hear him say \"They will not talk things over.\"  Then:\\n\\n\"I accidentally ran into \\'em.\"  This one you\\'ll have to take my word for until I can post some eq\\'d clips because on the audio online it clearly sounds like \"totally\".  But when its all cleaned up it\\'s \"accidentally\".  He slurs the I and the \"ax\" sound followed by \"tally\".\\n\\nOperator:  \"Ahh, you ran into em, ok.\"  Not much to add to this.\\n\\nNow is when this weird ass phone call gets even weirder.  There is a third voice on the recording that is really quiet but you can hear a male say \"Detective...\" followed by Brandon saying  \"Shot the first guy\".  The voice saying detective could have been picked up on the 911 side of the call, and it sounds like it was being used in a sentence.  Hard to tell.  I did put a lot of time into making sure Brandon in fact says \"shot\" and not \"got\".  \\n\\nThen the gunshot!  I had read people saying they heard a gun shot, and I was very skeptical, but there is almost definitely a gun shot right before the operator says \"Do you need an ambulance?\".  I\\'m a pretty avid gun owner and the sound is extremely similar to a shotgun or a rifle.  The ONE thing I will say it could also be... the hood of a truck slamming.  I definitely lean towards a gun though because you can hear the sound reverberate for a long time, and it would have to be a VERY loud hood.\\n\\nOne thing that I find extremely odd about the gunshot is that Brandon doesn\\'t seem to react to it at all.  I think I can hear 2 other gun shots in the recording, but this one is definitely the loudest and closest.\\n\\nNow for a really weird part that I haven\\'t seen much about.  When the operator says \"Do you need an ambulance?\"  there is another voice saying something at the exact same time.  It sounds like a low gravely African American male voice to me.  I spent a huge amount of time on that damn line but I have no idea what he says.  I believe it is 4 words though.  Brandon\\'s response is the reason I am certain there was someone else there.\\n\\n\"Yeah.  No, I need the cops\".  The \"yeah\" is said  in a laughing manner to the person that he is there with.  It is difficult to hear the \"laugh\" part, but it is there.  Whatever the person said must have provided some comic relief for the split second Brandon responded to him, and then immediately responded to the operator with \"No, I need the cops\".\\n\\nOperator:  \"Ok.  Is anybody hurt?\"  This last part is something I have not seen online, that I\\'m aware of, but right before the operator says \"Hello?\" for the first time you can hear Brandon whisper \"Crap\".  You can hear the sound of a vehicle coming from the distance and getting very close right as he whispers \"Crap\".\\n  \\nYou can hear him breathing into the phone for a bit, the operator says Hello two more times and the audio just ends.  Not like it was hung up, it just ends.  Someone clearly found Brandon that he didn\\'t want to see, and he stayed on the phone.  There is NO WAY the phone call ended like this, and I think whatever was heard next was probably held back for the sake of the family.\\n\\nI\\'m sorry this write up is so long, and I have a LOT more to say about the case, but I\\'ll leave it at this for now.  Thanks for reading, and let me know what you think!\\n\\nEdit:  As promised, here is some audio!\\n\\n \\n'"
      ]
     },
     "execution_count": 67,
     "metadata": {},
     "output_type": "execute_result"
    }
   ],
   "source": [
    "X.iloc[1150].text"
   ]
  },
  {
   "cell_type": "code",
   "execution_count": null,
   "metadata": {},
   "outputs": [],
   "source": []
  },
  {
   "cell_type": "code",
   "execution_count": null,
   "metadata": {},
   "outputs": [],
   "source": []
  },
  {
   "cell_type": "code",
   "execution_count": null,
   "metadata": {},
   "outputs": [],
   "source": []
  },
  {
   "cell_type": "code",
   "execution_count": null,
   "metadata": {},
   "outputs": [],
   "source": []
  },
  {
   "cell_type": "code",
   "execution_count": null,
   "metadata": {},
   "outputs": [],
   "source": []
  }
 ],
 "metadata": {
  "kernelspec": {
   "display_name": "Python 3",
   "language": "python",
   "name": "python3"
  },
  "language_info": {
   "codemirror_mode": {
    "name": "ipython",
    "version": 3
   },
   "file_extension": ".py",
   "mimetype": "text/x-python",
   "name": "python",
   "nbconvert_exporter": "python",
   "pygments_lexer": "ipython3",
   "version": "3.7.3"
  }
 },
 "nbformat": 4,
 "nbformat_minor": 2
}
